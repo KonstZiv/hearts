{
 "cells": [
  {
   "cell_type": "markdown",
   "id": "31135b02c942c133",
   "metadata": {
    "collapsed": false,
    "jupyter": {
     "outputs_hidden": false
    }
   },
   "source": [
    "## Змінні і типи даних"
   ]
  },
  {
   "cell_type": "code",
   "execution_count": 1,
   "id": "initial_id",
   "metadata": {
    "ExecuteTime": {
     "end_time": "2023-12-15T13:28:07.095503Z",
     "start_time": "2023-12-15T13:28:07.089327Z"
    }
   },
   "outputs": [],
   "source": [
    "a = 100_000\n",
    "b = \"my string\""
   ]
  },
  {
   "cell_type": "markdown",
   "id": "c58e2800b75bd4a7",
   "metadata": {
    "collapsed": false,
    "jupyter": {
     "outputs_hidden": false
    }
   },
   "source": [
    "![variable and obj](variables_and_obj.png)"
   ]
  },
  {
   "cell_type": "code",
   "execution_count": 2,
   "id": "da6287ae3cf6c4d9",
   "metadata": {
    "collapsed": false,
    "jupyter": {
     "outputs_hidden": false
    }
   },
   "outputs": [
    {
     "data": {
      "text/plain": [
       "500000"
      ]
     },
     "execution_count": 2,
     "metadata": {},
     "output_type": "execute_result"
    }
   ],
   "source": [
    "a * 5"
   ]
  },
  {
   "cell_type": "code",
   "execution_count": 3,
   "id": "158195dce1f10e02",
   "metadata": {
    "collapsed": false,
    "jupyter": {
     "outputs_hidden": false
    }
   },
   "outputs": [
    {
     "data": {
      "text/plain": [
       "'my stringmy stringmy stringmy stringmy string'"
      ]
     },
     "execution_count": 3,
     "metadata": {},
     "output_type": "execute_result"
    }
   ],
   "source": [
    "b * 5"
   ]
  },
  {
   "cell_type": "markdown",
   "id": "765f89c6ea55e340",
   "metadata": {
    "collapsed": false,
    "jupyter": {
     "outputs_hidden": false
    }
   },
   "source": [
    "Головне: \n",
    "- імена зʼявляються коли їх вперше проголошують\n",
    "- імена - це просто посилання на обʼєкти\n",
    "- імена не привʼязані до типів даних (динамічна типізація)\n",
    "- вся інформація про обʼєкт - знаходиться в самому обʼєкті, а не в імені\n",
    "- бо обʼєкти все про себе несуть з собою (інкапсуляція, ми в це трохи заглибимось пізніше), то здорово згадати що існують методи обʼєктів, які можуть робити над обʼєктами якісь корисні дії"
   ]
  },
  {
   "cell_type": "code",
   "execution_count": 4,
   "id": "6767842c51cdf83f",
   "metadata": {
    "ExecuteTime": {
     "end_time": "2023-12-15T13:37:41.802401Z",
     "start_time": "2023-12-15T13:37:41.788369Z"
    },
    "collapsed": false,
    "jupyter": {
     "outputs_hidden": false
    }
   },
   "outputs": [
    {
     "data": {
      "text/plain": [
       "'ЦІ СИМВОЛИ ЗАРАЗ СТАНУТЬ ВЕЛИКИМИ'"
      ]
     },
     "execution_count": 4,
     "metadata": {},
     "output_type": "execute_result"
    }
   ],
   "source": [
    "\"ці символи зараз стануть великими\".upper()"
   ]
  },
  {
   "cell_type": "markdown",
   "id": "82787a8efadbb812",
   "metadata": {
    "collapsed": false,
    "jupyter": {
     "outputs_hidden": false
    }
   },
   "source": [
    "Основні типи даних:\n",
    "- str - рядки (\"it is string\", '321 ^^^#$% - це також рядок')\n",
    "- int - цілі числа (1, 42, 100000, 100_000)\n",
    "- float - числа з плаваючою комою (1.00, 3.141592, 23.12345678e6)\n",
    "- NonType: None - позначає \"нічого\". Тип даних з одного обʼєкта.\n",
    "- bool: True, False - булевський тип даних, \"істина\" і \"брехня\", або \"логічна 1\" і \"логічний 0\""
   ]
  },
  {
   "cell_type": "code",
   "execution_count": 5,
   "id": "fae3660112509e3f",
   "metadata": {
    "collapsed": false,
    "jupyter": {
     "outputs_hidden": false
    }
   },
   "outputs": [
    {
     "data": {
      "text/plain": [
       "True"
      ]
     },
     "execution_count": 5,
     "metadata": {},
     "output_type": "execute_result"
    }
   ],
   "source": [
    "12 > 4.34"
   ]
  },
  {
   "cell_type": "markdown",
   "id": "108aed23357be1b8",
   "metadata": {
    "collapsed": false,
    "jupyter": {
     "outputs_hidden": false
    }
   },
   "source": [
    "## Послідовності\n",
    "\n",
    "існують типи даних які можуть складатись з інших обʼєктів\n",
    "\n",
    "наприклад - рядок складається з односимвольних рядків:"
   ]
  },
  {
   "cell_type": "code",
   "execution_count": 6,
   "id": "568d371fd82a2c8",
   "metadata": {
    "ExecuteTime": {
     "end_time": "2023-12-15T13:38:45.103628Z",
     "start_time": "2023-12-15T13:38:45.094928Z"
    },
    "collapsed": false,
    "jupyter": {
     "outputs_hidden": false
    }
   },
   "outputs": [],
   "source": [
    "string_1 = \"string\""
   ]
  },
  {
   "cell_type": "markdown",
   "id": "40d5b9026ded956c",
   "metadata": {
    "collapsed": false,
    "jupyter": {
     "outputs_hidden": false
    }
   },
   "source": [
    "він - впорядкований і незмінний"
   ]
  },
  {
   "cell_type": "code",
   "execution_count": 7,
   "id": "61c0e6a043a8007a",
   "metadata": {
    "ExecuteTime": {
     "end_time": "2023-12-15T13:38:47.144730Z",
     "start_time": "2023-12-15T13:38:47.128312Z"
    },
    "collapsed": false,
    "jupyter": {
     "outputs_hidden": false
    }
   },
   "outputs": [
    {
     "data": {
      "text/plain": [
       "4335150984"
      ]
     },
     "execution_count": 7,
     "metadata": {},
     "output_type": "execute_result"
    }
   ],
   "source": [
    "id(string_1)"
   ]
  },
  {
   "cell_type": "code",
   "execution_count": 8,
   "id": "dbeb935082d220b",
   "metadata": {
    "ExecuteTime": {
     "end_time": "2023-12-15T13:38:52.452619Z",
     "start_time": "2023-12-15T13:38:52.444038Z"
    },
    "collapsed": false,
    "jupyter": {
     "outputs_hidden": false
    }
   },
   "outputs": [],
   "source": [
    "string_2 = \"s\" + \"t\" + \"r\" + \"i\" + \"n\" + \"g\""
   ]
  },
  {
   "cell_type": "code",
   "execution_count": 9,
   "id": "163c0df38e46f43b",
   "metadata": {
    "ExecuteTime": {
     "end_time": "2023-12-15T13:38:53.177267Z",
     "start_time": "2023-12-15T13:38:53.163106Z"
    },
    "collapsed": false,
    "jupyter": {
     "outputs_hidden": false
    }
   },
   "outputs": [
    {
     "data": {
      "text/plain": [
       "'string'"
      ]
     },
     "execution_count": 9,
     "metadata": {},
     "output_type": "execute_result"
    }
   ],
   "source": [
    "string_2"
   ]
  },
  {
   "cell_type": "code",
   "execution_count": 10,
   "id": "a1f0a6452facfcfc",
   "metadata": {
    "ExecuteTime": {
     "end_time": "2023-12-15T13:38:57.467305Z",
     "start_time": "2023-12-15T13:38:57.448085Z"
    },
    "collapsed": false,
    "jupyter": {
     "outputs_hidden": false
    }
   },
   "outputs": [
    {
     "data": {
      "text/plain": [
       "True"
      ]
     },
     "execution_count": 10,
     "metadata": {},
     "output_type": "execute_result"
    }
   ],
   "source": [
    "string_2 is string_1"
   ]
  },
  {
   "cell_type": "code",
   "execution_count": 11,
   "id": "b2c934cef4f59329",
   "metadata": {
    "ExecuteTime": {
     "end_time": "2023-12-15T13:39:02.837452Z",
     "start_time": "2023-12-15T13:39:02.822685Z"
    },
    "collapsed": false,
    "jupyter": {
     "outputs_hidden": false
    }
   },
   "outputs": [
    {
     "data": {
      "text/plain": [
       "4335150984"
      ]
     },
     "execution_count": 11,
     "metadata": {},
     "output_type": "execute_result"
    }
   ],
   "source": [
    "id(string_2)"
   ]
  },
  {
   "cell_type": "code",
   "execution_count": 12,
   "id": "efd6aee788db7131",
   "metadata": {
    "ExecuteTime": {
     "end_time": "2023-12-15T13:39:52.341122Z",
     "start_time": "2023-12-15T13:39:52.325349Z"
    },
    "collapsed": false,
    "jupyter": {
     "outputs_hidden": false
    }
   },
   "outputs": [
    {
     "data": {
      "text/plain": [
       "4335150984"
      ]
     },
     "execution_count": 12,
     "metadata": {},
     "output_type": "execute_result"
    }
   ],
   "source": [
    "id(string_1)"
   ]
  },
  {
   "cell_type": "markdown",
   "id": "41b1ba4e7e7deae8",
   "metadata": {
    "collapsed": false,
    "jupyter": {
     "outputs_hidden": false
    }
   },
   "source": [
    "### Списки (list)\n",
    "\n",
    "впорядковані змінні типи даних"
   ]
  },
  {
   "cell_type": "code",
   "execution_count": 22,
   "id": "192fc614bbbb3263",
   "metadata": {
    "ExecuteTime": {
     "end_time": "2023-12-15T13:39:55.699278Z",
     "start_time": "2023-12-15T13:39:55.680699Z"
    },
    "collapsed": false,
    "jupyter": {
     "outputs_hidden": false
    }
   },
   "outputs": [],
   "source": [
    "list_1 = [string_1, 22, 3.15, False, a]"
   ]
  },
  {
   "cell_type": "code",
   "execution_count": 23,
   "id": "23c9a2d5e823a80e",
   "metadata": {
    "ExecuteTime": {
     "end_time": "2023-12-15T13:39:56.540757Z",
     "start_time": "2023-12-15T13:39:56.525906Z"
    },
    "collapsed": false,
    "jupyter": {
     "outputs_hidden": false
    }
   },
   "outputs": [],
   "source": [
    "# впорядковані\n",
    "\n",
    "list_2 = [22, 3.15, False, a, string_1]"
   ]
  },
  {
   "cell_type": "code",
   "execution_count": 24,
   "id": "aa63323c619fb421",
   "metadata": {
    "ExecuteTime": {
     "end_time": "2023-12-15T13:39:57.431894Z",
     "start_time": "2023-12-15T13:39:57.426621Z"
    },
    "collapsed": false,
    "jupyter": {
     "outputs_hidden": false
    }
   },
   "outputs": [
    {
     "data": {
      "text/plain": [
       "False"
      ]
     },
     "execution_count": 24,
     "metadata": {},
     "output_type": "execute_result"
    }
   ],
   "source": [
    "list_1 == list_2"
   ]
  },
  {
   "cell_type": "code",
   "execution_count": 25,
   "id": "8befe3a003b3be8c",
   "metadata": {
    "ExecuteTime": {
     "end_time": "2023-12-15T13:39:59.993376Z",
     "start_time": "2023-12-15T13:39:59.977396Z"
    },
    "collapsed": false,
    "jupyter": {
     "outputs_hidden": false
    }
   },
   "outputs": [],
   "source": [
    "list_3 = [string_1, 22, 3.15, False, a]"
   ]
  },
  {
   "cell_type": "code",
   "execution_count": 26,
   "id": "983bb4dbf8109110",
   "metadata": {
    "ExecuteTime": {
     "end_time": "2023-12-15T13:40:01.162090Z",
     "start_time": "2023-12-15T13:40:01.148020Z"
    },
    "collapsed": false,
    "jupyter": {
     "outputs_hidden": false
    }
   },
   "outputs": [
    {
     "data": {
      "text/plain": [
       "False"
      ]
     },
     "execution_count": 26,
     "metadata": {},
     "output_type": "execute_result"
    }
   ],
   "source": [
    "list_1 is list_2"
   ]
  },
  {
   "cell_type": "code",
   "execution_count": 27,
   "id": "a316869bd4c8d6aa",
   "metadata": {
    "ExecuteTime": {
     "end_time": "2023-12-15T13:40:18.890506Z",
     "start_time": "2023-12-15T13:40:18.876927Z"
    },
    "collapsed": false,
    "jupyter": {
     "outputs_hidden": false
    }
   },
   "outputs": [
    {
     "data": {
      "text/plain": [
       "4364567488"
      ]
     },
     "execution_count": 27,
     "metadata": {},
     "output_type": "execute_result"
    }
   ],
   "source": [
    "id(list_1)"
   ]
  },
  {
   "cell_type": "code",
   "execution_count": 28,
   "id": "e6d3e7250ccf8f7b",
   "metadata": {
    "ExecuteTime": {
     "end_time": "2023-12-15T13:40:19.444446Z",
     "start_time": "2023-12-15T13:40:19.439647Z"
    },
    "collapsed": false,
    "jupyter": {
     "outputs_hidden": false
    }
   },
   "outputs": [
    {
     "data": {
      "text/plain": [
       "4364900160"
      ]
     },
     "execution_count": 28,
     "metadata": {},
     "output_type": "execute_result"
    }
   ],
   "source": [
    "id(list_3)"
   ]
  },
  {
   "cell_type": "code",
   "execution_count": 29,
   "id": "93bee709ddfb937f",
   "metadata": {
    "ExecuteTime": {
     "end_time": "2023-12-15T13:40:20.813150Z",
     "start_time": "2023-12-15T13:40:20.799689Z"
    },
    "collapsed": false,
    "jupyter": {
     "outputs_hidden": false
    }
   },
   "outputs": [
    {
     "data": {
      "text/plain": [
       "False"
      ]
     },
     "execution_count": 29,
     "metadata": {},
     "output_type": "execute_result"
    }
   ],
   "source": [
    "# впорядкованість дає можливість звертатись за індексом (індексація - з нуля):\n",
    "\n",
    "list_1[3]"
   ]
  },
  {
   "cell_type": "code",
   "execution_count": 30,
   "id": "827c2049f815c328",
   "metadata": {
    "ExecuteTime": {
     "end_time": "2023-12-15T13:40:22.943396Z",
     "start_time": "2023-12-15T13:40:22.928005Z"
    },
    "collapsed": false,
    "jupyter": {
     "outputs_hidden": false
    }
   },
   "outputs": [
    {
     "data": {
      "text/plain": [
       "5"
      ]
     },
     "execution_count": 30,
     "metadata": {},
     "output_type": "execute_result"
    }
   ],
   "source": [
    "# визначати довжину обʼєкта\n",
    "\n",
    "len(list_1)"
   ]
  },
  {
   "cell_type": "code",
   "execution_count": 32,
   "id": "685fdab75b33733c",
   "metadata": {
    "ExecuteTime": {
     "end_time": "2023-12-15T13:40:26.245290Z",
     "start_time": "2023-12-15T13:40:26.229935Z"
    },
    "collapsed": false,
    "jupyter": {
     "outputs_hidden": false
    }
   },
   "outputs": [
    {
     "data": {
      "text/plain": [
       "[22, 3.15]"
      ]
     },
     "execution_count": 32,
     "metadata": {},
     "output_type": "execute_result"
    }
   ],
   "source": [
    "# і робити \"зрізи\" (slice):\n",
    "\n",
    "list_1[1:3]"
   ]
  },
  {
   "cell_type": "markdown",
   "id": "5b3af465b0a4d956",
   "metadata": {
    "collapsed": false,
    "jupyter": {
     "outputs_hidden": false
    }
   },
   "source": [
    "![indexes in sequences](indexes_and_slices.png)"
   ]
  },
  {
   "cell_type": "code",
   "execution_count": 33,
   "id": "3f311d22bc5fc849",
   "metadata": {
    "collapsed": false,
    "jupyter": {
     "outputs_hidden": false
    }
   },
   "outputs": [
    {
     "data": {
      "text/plain": [
       "100000"
      ]
     },
     "execution_count": 33,
     "metadata": {},
     "output_type": "execute_result"
    }
   ],
   "source": [
    "# можна використовувати як пряму індексацію (додатні числа), так і зворотню (відʼємні числа). Ви часто будете зустрічати таке звертання до останнього елементу послідовності:\n",
    "\n",
    "list_1[-1]"
   ]
  },
  {
   "cell_type": "code",
   "execution_count": 35,
   "id": "d385089f77ca1862",
   "metadata": {
    "collapsed": false,
    "jupyter": {
     "outputs_hidden": false
    }
   },
   "outputs": [
    {
     "data": {
      "text/plain": [
       "'а ла ма га'"
      ]
     },
     "execution_count": 35,
     "metadata": {},
     "output_type": "execute_result"
    }
   ],
   "source": [
    "# звісно, що все це актуально і для рядка, який також є послідовністю (яка складається з односимвольних рядків):\n",
    "\"а ба ба га ла ма га\"[-10:]"
   ]
  },
  {
   "cell_type": "code",
   "execution_count": 36,
   "id": "a205ebfef15e4d74",
   "metadata": {
    "collapsed": false,
    "jupyter": {
     "outputs_hidden": false
    }
   },
   "outputs": [
    {
     "data": {
      "text/plain": [
       "[4, 6, 8]"
      ]
     },
     "execution_count": 36,
     "metadata": {},
     "output_type": "execute_result"
    }
   ],
   "source": [
    "# слайси можуть мати третій параметр - крок (перший - старт, другий - стоп, третій - крок). Він вказує з яким кроком треба відібрати елементи послідовності:\n",
    "my_list = [1, 2, 3, 4, 5, 6, 7, 8, 9]\n",
    "my_list[3::2]"
   ]
  },
  {
   "cell_type": "code",
   "execution_count": 37,
   "id": "a120c485650f367d",
   "metadata": {
    "collapsed": false,
    "jupyter": {
     "outputs_hidden": false
    }
   },
   "outputs": [
    {
     "data": {
      "text/plain": [
       "'кодяр йимярп ец'"
      ]
     },
     "execution_count": 37,
     "metadata": {},
     "output_type": "execute_result"
    }
   ],
   "source": [
    "# цікаво те, що крок може бути відʼємним! Ви часто зможете бачити наступний синтаксис:\n",
    "\n",
    "\"це прямий рядок\"[::-1]"
   ]
  },
  {
   "cell_type": "code",
   "execution_count": 38,
   "id": "7ecfca763b508d",
   "metadata": {
    "collapsed": false,
    "jupyter": {
     "outputs_hidden": false
    }
   },
   "outputs": [
    {
     "data": {
      "text/plain": [
       "4364812928"
      ]
     },
     "execution_count": 38,
     "metadata": {},
     "output_type": "execute_result"
    }
   ],
   "source": [
    "# так як список - змінний тип даних, то ми можемо в ньому в середині щось змінювати, при цьому він залишається тим самим обʼєктом, яким він був створений:\n",
    "\n",
    "my_list = [0, 1, 2, 3, 4, 5]\n",
    "id(my_list)"
   ]
  },
  {
   "cell_type": "code",
   "execution_count": 39,
   "id": "4fe59b938380c8c4",
   "metadata": {
    "collapsed": false,
    "jupyter": {
     "outputs_hidden": false
    }
   },
   "outputs": [
    {
     "data": {
      "text/plain": [
       "[100, 1, 2, 3, 4, 5]"
      ]
     },
     "execution_count": 39,
     "metadata": {},
     "output_type": "execute_result"
    }
   ],
   "source": [
    "my_list[0] = 100\n",
    "my_list"
   ]
  },
  {
   "cell_type": "code",
   "execution_count": 40,
   "id": "e66e5be33e85197f",
   "metadata": {
    "collapsed": false,
    "jupyter": {
     "outputs_hidden": false
    }
   },
   "outputs": [
    {
     "data": {
      "text/plain": [
       "4364812928"
      ]
     },
     "execution_count": 40,
     "metadata": {},
     "output_type": "execute_result"
    }
   ],
   "source": [
    "id(my_list)"
   ]
  },
  {
   "cell_type": "code",
   "execution_count": 41,
   "id": "b9fbc2fcc2d49fa2",
   "metadata": {
    "collapsed": false,
    "jupyter": {
     "outputs_hidden": false
    }
   },
   "outputs": [
    {
     "data": {
      "text/plain": [
       "'ц'"
      ]
     },
     "execution_count": 41,
     "metadata": {},
     "output_type": "execute_result"
    }
   ],
   "source": [
    "# з рядками так зробити не вийде, бо вони - незмінні\n",
    "\n",
    "\"це незмінний рядок\"[0]"
   ]
  },
  {
   "cell_type": "code",
   "execution_count": 42,
   "id": "93d8b358c1cfab7",
   "metadata": {
    "collapsed": false,
    "jupyter": {
     "outputs_hidden": false
    }
   },
   "outputs": [
    {
     "ename": "TypeError",
     "evalue": "'str' object does not support item assignment",
     "output_type": "error",
     "traceback": [
      "\u001b[0;31m---------------------------------------------------------------------------\u001b[0m",
      "\u001b[0;31mTypeError\u001b[0m                                 Traceback (most recent call last)",
      "Cell \u001b[0;32mIn[42], line 1\u001b[0m\n\u001b[0;32m----> 1\u001b[0m \u001b[38;5;124;43m\"\u001b[39;49m\u001b[38;5;124;43mце незмінний рядок\u001b[39;49m\u001b[38;5;124;43m\"\u001b[39;49m\u001b[43m[\u001b[49m\u001b[38;5;241;43m0\u001b[39;49m\u001b[43m]\u001b[49m \u001b[38;5;241m=\u001b[39m \u001b[38;5;124m\"\u001b[39m\u001b[38;5;124mЦ\u001b[39m\u001b[38;5;124m\"\u001b[39m\n",
      "\u001b[0;31mTypeError\u001b[0m: 'str' object does not support item assignment"
     ]
    }
   ],
   "source": [
    "\"це незмінний рядок\"[0] = \"Ц\""
   ]
  },
  {
   "cell_type": "markdown",
   "id": "91820a8a2cbd48dc",
   "metadata": {
    "collapsed": false,
    "jupyter": {
     "outputs_hidden": false
    }
   },
   "source": [
    "### Кортежі (tuple)\n",
    "\n",
    "це як список, але незмінні"
   ]
  },
  {
   "cell_type": "code",
   "execution_count": 43,
   "id": "c5fd51b76eb04351",
   "metadata": {
    "collapsed": false,
    "jupyter": {
     "outputs_hidden": false
    }
   },
   "outputs": [],
   "source": [
    "my_tuple = (1, 2, \"my_string\", [\"one\", \"two\"], True)"
   ]
  },
  {
   "cell_type": "code",
   "execution_count": 44,
   "id": "a23fed4bfe5891c5",
   "metadata": {
    "collapsed": false,
    "jupyter": {
     "outputs_hidden": false
    }
   },
   "outputs": [
    {
     "data": {
      "text/plain": [
       "['one', 'two']"
      ]
     },
     "execution_count": 44,
     "metadata": {},
     "output_type": "execute_result"
    }
   ],
   "source": [
    "my_tuple[3]"
   ]
  },
  {
   "cell_type": "markdown",
   "id": "9555f8b21ea67807",
   "metadata": {
    "collapsed": false,
    "jupyter": {
     "outputs_hidden": false
    }
   },
   "source": [
    "## Словники (dict)\n",
    "\n",
    "невпорядкований асоційований масив"
   ]
  },
  {
   "cell_type": "code",
   "execution_count": 45,
   "id": "3fb80d1e2b5420ba",
   "metadata": {
    "collapsed": false,
    "jupyter": {
     "outputs_hidden": false
    }
   },
   "outputs": [],
   "source": [
    "my_dict_1 = {\n",
    "    \"add\": \"додати\",\n",
    "    \"subtract\": \"віднімати\",\n",
    "    \"multiply\": \"множити\",\n",
    "    \"divide\": \"ділити\",\n",
    "}"
   ]
  },
  {
   "cell_type": "markdown",
   "id": "a0a3cdb78245b9bd",
   "metadata": {
    "collapsed": false,
    "jupyter": {
     "outputs_hidden": false
    }
   },
   "source": [
    "Ключи - не можуть повторюватись (унікальність) і можуть бути лише незмінні (хешованість) обʼєкти.\n",
    "Значення - будь-які обʼєкти."
   ]
  },
  {
   "cell_type": "code",
   "execution_count": null,
   "id": "dc798dd5c0aa9ef2",
   "metadata": {
    "collapsed": false,
    "jupyter": {
     "outputs_hidden": false
    }
   },
   "outputs": [],
   "source": [
    "# невпорядкованість:\n",
    "d1 = {\"one\": 1, \"two\": 2, \"three\": 3}\n",
    "d2 = {\"three\": 3, \"two\": 2, \"one\": 1}\n",
    "d2 is d1"
   ]
  },
  {
   "cell_type": "code",
   "execution_count": null,
   "id": "69ae4936e27800f0",
   "metadata": {
    "collapsed": false,
    "jupyter": {
     "outputs_hidden": false
    }
   },
   "outputs": [],
   "source": [
    "d2 == d1"
   ]
  },
  {
   "cell_type": "markdown",
   "id": "32a19e3db2d95cc9",
   "metadata": {
    "collapsed": false,
    "jupyter": {
     "outputs_hidden": false
    }
   },
   "source": [
    "### Множини (set)\n",
    "\n",
    "це як словники - але без значень. Самі ключи.\n",
    "\n",
    "Невпорядковані послідовності незмінних (хешованих) унікальних обʼєктів."
   ]
  },
  {
   "cell_type": "code",
   "execution_count": null,
   "id": "571213d7a3ffefd3",
   "metadata": {
    "collapsed": false,
    "jupyter": {
     "outputs_hidden": false
    }
   },
   "outputs": [],
   "source": [
    "my_set_1 = {\"one\", \"two\", \"three\"}\n",
    "my_set_2 = {\"three\", \"four\", \"five\"}"
   ]
  },
  {
   "cell_type": "markdown",
   "id": "1d39da370e0585a9",
   "metadata": {
    "collapsed": false,
    "jupyter": {
     "outputs_hidden": false
    }
   },
   "source": [
    "![sets union](sets_union.png)"
   ]
  },
  {
   "cell_type": "code",
   "execution_count": null,
   "id": "a5b615631012959b",
   "metadata": {
    "collapsed": false,
    "jupyter": {
     "outputs_hidden": false
    }
   },
   "outputs": [],
   "source": [
    "my_set_1.union(my_set_2)"
   ]
  },
  {
   "cell_type": "code",
   "execution_count": null,
   "id": "242478a1d9a04f51",
   "metadata": {
    "collapsed": false,
    "jupyter": {
     "outputs_hidden": false
    }
   },
   "outputs": [],
   "source": [
    "my_set_1 | my_set_2"
   ]
  },
  {
   "cell_type": "markdown",
   "id": "a09330be150eeb9d",
   "metadata": {
    "collapsed": false,
    "jupyter": {
     "outputs_hidden": false
    }
   },
   "source": [
    "![sets intersections](sets_intersections.png)"
   ]
  },
  {
   "cell_type": "code",
   "execution_count": null,
   "id": "b6cdc7f953acd62a",
   "metadata": {
    "collapsed": false,
    "jupyter": {
     "outputs_hidden": false
    }
   },
   "outputs": [],
   "source": [
    "my_set_1.intersection(my_set_2)"
   ]
  },
  {
   "cell_type": "code",
   "execution_count": null,
   "id": "b16f573e0afde0dc",
   "metadata": {
    "collapsed": false,
    "jupyter": {
     "outputs_hidden": false
    }
   },
   "outputs": [],
   "source": [
    "my_set_1 & my_set_2"
   ]
  },
  {
   "cell_type": "markdown",
   "id": "4ea6d435ffb1e1e2",
   "metadata": {
    "collapsed": false,
    "jupyter": {
     "outputs_hidden": false
    }
   },
   "source": [
    "![sets diffrence](sets_difference.png)"
   ]
  },
  {
   "cell_type": "code",
   "execution_count": null,
   "id": "2e8e3ccc8b85a71e",
   "metadata": {
    "collapsed": false,
    "jupyter": {
     "outputs_hidden": false
    }
   },
   "outputs": [],
   "source": [
    "my_set_1.difference(my_set_2)"
   ]
  },
  {
   "cell_type": "code",
   "execution_count": null,
   "id": "3224a1a04d06ff33",
   "metadata": {
    "collapsed": false,
    "jupyter": {
     "outputs_hidden": false
    }
   },
   "outputs": [],
   "source": [
    "my_set_1 - my_set_2"
   ]
  },
  {
   "cell_type": "code",
   "execution_count": null,
   "id": "9ff2f3e7daec4a3a",
   "metadata": {
    "collapsed": false,
    "jupyter": {
     "outputs_hidden": false
    }
   },
   "outputs": [],
   "source": [
    "# це - несиметрична операція\n",
    "\n",
    "my_set_2.difference(my_set_1)"
   ]
  },
  {
   "cell_type": "code",
   "execution_count": null,
   "id": "a026da7fc974bee7",
   "metadata": {
    "collapsed": false,
    "jupyter": {
     "outputs_hidden": false
    }
   },
   "outputs": [],
   "source": [
    "my_set_2 - my_set_1"
   ]
  },
  {
   "cell_type": "markdown",
   "id": "f185d1fd5ee1d92b",
   "metadata": {
    "collapsed": false,
    "jupyter": {
     "outputs_hidden": false
    }
   },
   "source": [
    "![symetric difference](symmetric_difference.png)"
   ]
  },
  {
   "cell_type": "code",
   "execution_count": null,
   "id": "1044aa38a8ecb8b8",
   "metadata": {
    "collapsed": false,
    "jupyter": {
     "outputs_hidden": false
    }
   },
   "outputs": [],
   "source": [
    "my_set_1.symmetric_difference(my_set_2)"
   ]
  },
  {
   "cell_type": "code",
   "execution_count": null,
   "id": "ec8a88641cc84a47",
   "metadata": {
    "collapsed": false,
    "jupyter": {
     "outputs_hidden": false
    }
   },
   "outputs": [],
   "source": [
    "my_set_1 ^ my_set_2"
   ]
  },
  {
   "cell_type": "code",
   "execution_count": null,
   "id": "cdb4b7233eab2bcb",
   "metadata": {
    "collapsed": false,
    "jupyter": {
     "outputs_hidden": false
    }
   },
   "outputs": [],
   "source": []
  }
 ],
 "metadata": {
  "kernelspec": {
   "display_name": "Python 3 (ipykernel)",
   "language": "python",
   "name": "python3"
  },
  "language_info": {
   "codemirror_mode": {
    "name": "ipython",
    "version": 3
   },
   "file_extension": ".py",
   "mimetype": "text/x-python",
   "name": "python",
   "nbconvert_exporter": "python",
   "pygments_lexer": "ipython3",
   "version": "3.12.0"
  }
 },
 "nbformat": 4,
 "nbformat_minor": 5
}
