{
 "cells": [
  {
   "cell_type": "markdown",
   "id": "31135b02c942c133",
   "metadata": {
    "collapsed": false
   },
   "source": [
    "## Змінні і типи даних"
   ]
  },
  {
   "cell_type": "code",
   "execution_count": null,
   "id": "initial_id",
   "metadata": {
    "collapsed": true,
    "jupyter": {
     "outputs_hidden": true
    }
   },
   "outputs": [],
   "source": [
    "a = 100_000\n",
    "b = \"my string\""
   ]
  },
  {
   "cell_type": "markdown",
   "id": "c58e2800b75bd4a7",
   "metadata": {
    "collapsed": false
   },
   "source": [
    "![variable and obj](../variables_and_obj.png)"
   ]
  },
  {
   "cell_type": "code",
   "execution_count": null,
   "outputs": [],
   "source": [
    "a * 5"
   ],
   "metadata": {
    "collapsed": false
   },
   "id": "da6287ae3cf6c4d9"
  },
  {
   "cell_type": "code",
   "execution_count": null,
   "outputs": [],
   "source": [
    "b * 5"
   ],
   "metadata": {
    "collapsed": false
   },
   "id": "158195dce1f10e02"
  },
  {
   "cell_type": "markdown",
   "source": [
    "Головне: \n",
    "- імена зʼявляються коли їх вперше проголошують\n",
    "- імена - це просто посилання на обʼєкти\n",
    "- імена не привʼязані до типів даних (динамічна типізація)\n",
    "- вся інформація про обʼєкт - знаходиться в самому обʼєкті, а не в імені\n",
    "- бо обʼєкти все про себе несуть з собою (інкапсуляція, ми в це трохи заглибимось пізніше), то здорово згадати що існують методи обʼєктів, які можуть робити над обʼєктами якісь корисні дії"
   ],
   "metadata": {
    "collapsed": false
   },
   "id": "765f89c6ea55e340"
  },
  {
   "cell_type": "code",
   "execution_count": null,
   "outputs": [],
   "source": [
    "\"ці символи зараз стануть великими\".upper()"
   ],
   "metadata": {
    "collapsed": false
   },
   "id": "6767842c51cdf83f"
  },
  {
   "cell_type": "markdown",
   "source": [
    "Основні типи даних:\n",
    "- str - рядки (\"it is string\", '321 ^^^#$% - це також рядок')\n",
    "- int - цілі числа (1, 42, 100000, 100_000)\n",
    "- float - числа з плаваючою комою (1.00, 3.141592, 23.12345678e6)\n",
    "- NonType: None - позначає \"нічого\". Тип даних з одного обʼєкта.\n",
    "- bool: True, False - булевський тип даних, \"істина\" і \"брехня\", або \"логічна 1\" і \"логічний 0\""
   ],
   "metadata": {
    "collapsed": false
   },
   "id": "82787a8efadbb812"
  },
  {
   "cell_type": "code",
   "execution_count": null,
   "id": "fae3660112509e3f",
   "metadata": {
    "collapsed": false
   },
   "outputs": [],
   "source": [
    "12 > 4.34"
   ]
  },
  {
   "cell_type": "markdown",
   "source": [],
   "metadata": {
    "collapsed": false
   },
   "id": "803135fec03bb8d"
  },
  {
   "cell_type": "markdown",
   "source": [
    "## Послідовності\n",
    "\n",
    "існують типи даних які можуть складатись з інших обʼєктів\n",
    "\n",
    "наприклад - рядок складається з односимвольних рядків:"
   ],
   "metadata": {
    "collapsed": false
   },
   "id": "108aed23357be1b8"
  },
  {
   "cell_type": "code",
   "execution_count": null,
   "outputs": [],
   "source": [
    "string_1 = \"string\""
   ],
   "metadata": {
    "collapsed": false
   },
   "id": "568d371fd82a2c8"
  },
  {
   "cell_type": "markdown",
   "source": [
    "він - впорядкований і незмінний"
   ],
   "metadata": {
    "collapsed": false
   },
   "id": "40d5b9026ded956c"
  },
  {
   "cell_type": "code",
   "execution_count": null,
   "outputs": [],
   "source": [
    "id(string)"
   ],
   "metadata": {
    "collapsed": false
   },
   "id": "61c0e6a043a8007a"
  },
  {
   "cell_type": "code",
   "execution_count": null,
   "outputs": [],
   "source": [
    "string_2 = \"s\" + \"t\" + \"r\" + \"i\" + \"n\" + \"g\""
   ],
   "metadata": {
    "collapsed": false
   },
   "id": "dbeb935082d220b"
  },
  {
   "cell_type": "code",
   "execution_count": null,
   "outputs": [],
   "source": [
    "string_2"
   ],
   "metadata": {
    "collapsed": false
   },
   "id": "163c0df38e46f43b"
  },
  {
   "cell_type": "code",
   "execution_count": null,
   "outputs": [],
   "source": [
    "string_2 is string_1"
   ],
   "metadata": {
    "collapsed": false
   },
   "id": "a1f0a6452facfcfc"
  },
  {
   "cell_type": "code",
   "execution_count": null,
   "outputs": [],
   "source": [
    "id(string_2)"
   ],
   "metadata": {
    "collapsed": false
   },
   "id": "b2c934cef4f59329"
  },
  {
   "cell_type": "code",
   "execution_count": null,
   "outputs": [],
   "source": [
    "id(string_1)"
   ],
   "metadata": {
    "collapsed": false
   },
   "id": "efd6aee788db7131"
  },
  {
   "cell_type": "markdown",
   "source": [
    "### Списки (list)\n",
    "\n",
    "впорядковані змінні типи даних"
   ],
   "metadata": {
    "collapsed": false
   },
   "id": "41b1ba4e7e7deae8"
  },
  {
   "cell_type": "code",
   "execution_count": null,
   "outputs": [],
   "source": [
    "list_1 = [string_1, 22, 3.15, False, a]"
   ],
   "metadata": {
    "collapsed": false
   },
   "id": "192fc614bbbb3263"
  },
  {
   "cell_type": "code",
   "execution_count": null,
   "outputs": [],
   "source": [
    "# впорядковані\n",
    "\n",
    "list_2 = [22, 3.15, False, a, string_1]"
   ],
   "metadata": {
    "collapsed": false
   },
   "id": "23c9a2d5e823a80e"
  },
  {
   "cell_type": "code",
   "execution_count": null,
   "outputs": [],
   "source": [
    "list_1 == list_2"
   ],
   "metadata": {
    "collapsed": false
   },
   "id": "aa63323c619fb421"
  },
  {
   "cell_type": "code",
   "execution_count": null,
   "outputs": [],
   "source": [
    "list_3 = [string_1, 22, 3.15, False, a]"
   ],
   "metadata": {
    "collapsed": false
   },
   "id": "8befe3a003b3be8c"
  },
  {
   "cell_type": "code",
   "execution_count": null,
   "outputs": [],
   "source": [
    "list_1 is list_2"
   ],
   "metadata": {
    "collapsed": false
   },
   "id": "983bb4dbf8109110"
  },
  {
   "cell_type": "code",
   "execution_count": null,
   "outputs": [],
   "source": [
    "id(list_1)"
   ],
   "metadata": {
    "collapsed": false
   },
   "id": "a316869bd4c8d6aa"
  },
  {
   "cell_type": "code",
   "execution_count": null,
   "outputs": [],
   "source": [
    "id(list_3)"
   ],
   "metadata": {
    "collapsed": false
   },
   "id": "e6d3e7250ccf8f7b"
  },
  {
   "cell_type": "code",
   "execution_count": null,
   "outputs": [],
   "source": [
    "# впорядкованість дає можливість звертатись за індексом (індексація - з нуля):\n",
    "\n",
    "list_1[3]"
   ],
   "metadata": {
    "collapsed": false
   },
   "id": "93bee709ddfb937f"
  },
  {
   "cell_type": "code",
   "execution_count": null,
   "outputs": [],
   "source": [
    "# визначати довжину обʼєкта\n",
    "\n",
    "len(list_1)"
   ],
   "metadata": {
    "collapsed": false
   },
   "id": "827c2049f815c328"
  },
  {
   "cell_type": "code",
   "execution_count": null,
   "outputs": [],
   "source": [
    "# і робити \"зрізи\" (slice):\n",
    "\n",
    "list_1[1:3]"
   ],
   "metadata": {
    "collapsed": false
   },
   "id": "685fdab75b33733c"
  },
  {
   "cell_type": "markdown",
   "source": [
    "![indexes in sequences](indexes_and_slices.png)"
   ],
   "metadata": {
    "collapsed": false
   },
   "id": "5b3af465b0a4d956"
  },
  {
   "cell_type": "code",
   "execution_count": null,
   "outputs": [],
   "source": [
    "# можна використовувати як пряму індексацію (додатні числа), так і зворотню (відʼємні числа). Ви часто будете зустрічати таке звертання до останнього елементу послідовності:\n",
    "\n",
    "list_1[-1]"
   ],
   "metadata": {
    "collapsed": false
   },
   "id": "3f311d22bc5fc849"
  },
  {
   "cell_type": "code",
   "execution_count": null,
   "outputs": [],
   "source": [
    "# звісно, що все це актуально і для рядка, який також є послідовністю (яка складається з односимвольних рядків):\n",
    "\"а ба ба га ла ма га\"[-10:]"
   ],
   "metadata": {
    "collapsed": false
   },
   "id": "d385089f77ca1862"
  },
  {
   "cell_type": "code",
   "execution_count": null,
   "outputs": [],
   "source": [
    "# слайси можуть мати третій параметр - крок (перший - старт, другий - стоп, третій - крок). Він вказує з яким кроком треба відібрати елементи послідовності:\n",
    "my_list = [1, 2, 3, 4, 5, 6, 7, 8, 9]\n",
    "my_list[3::2]"
   ],
   "metadata": {
    "collapsed": false
   },
   "id": "a205ebfef15e4d74"
  },
  {
   "cell_type": "code",
   "execution_count": null,
   "outputs": [],
   "source": [
    "# цікаво те, що крок може бути відʼємним! Ви часто зможете бачити наступний синтаксис:\n",
    "\n",
    "\"це прямий рядок\"[::-1]"
   ],
   "metadata": {
    "collapsed": false
   },
   "id": "a120c485650f367d"
  },
  {
   "cell_type": "code",
   "execution_count": null,
   "outputs": [],
   "source": [
    "# так як список - змінний тип даних, то ми можемо в ньому в середині щось змінювати, при цьому він залишається тим самим обʼєктом, яким він був створений:\n",
    "\n",
    "my_list = [0, 1, 2, 3, 4, 5]\n",
    "id(my_list)"
   ],
   "metadata": {
    "collapsed": false
   },
   "id": "7ecfca763b508d"
  },
  {
   "cell_type": "code",
   "execution_count": null,
   "outputs": [],
   "source": [
    "my_list[0] = 100\n",
    "my_list"
   ],
   "metadata": {
    "collapsed": false
   },
   "id": "4fe59b938380c8c4"
  },
  {
   "cell_type": "code",
   "execution_count": null,
   "outputs": [],
   "source": [
    "id(my_list)"
   ],
   "metadata": {
    "collapsed": false
   },
   "id": "e66e5be33e85197f"
  },
  {
   "cell_type": "code",
   "execution_count": null,
   "outputs": [],
   "source": [
    "# з рядками так зробити не вийде, бо вони - незмінні\n",
    "\n",
    "\"це незмінний рядок\"[0]"
   ],
   "metadata": {
    "collapsed": false
   },
   "id": "b9fbc2fcc2d49fa2"
  },
  {
   "cell_type": "code",
   "execution_count": null,
   "outputs": [],
   "source": [
    "\"це незмінний рядок\"[0] = \"Ц\""
   ],
   "metadata": {
    "collapsed": false
   },
   "id": "93d8b358c1cfab7"
  },
  {
   "cell_type": "markdown",
   "source": [
    "### Кортежі (tuple)\n",
    "\n",
    "це як список, але незмінні"
   ],
   "metadata": {
    "collapsed": false
   },
   "id": "91820a8a2cbd48dc"
  },
  {
   "cell_type": "code",
   "execution_count": null,
   "outputs": [],
   "source": [
    "my_tuple = (1, 2, \"my_string\", [\"one\", \"two\"], True)"
   ],
   "metadata": {
    "collapsed": false
   },
   "id": "c5fd51b76eb04351"
  },
  {
   "cell_type": "code",
   "execution_count": null,
   "outputs": [],
   "source": [
    "my_tuple[3]"
   ],
   "metadata": {
    "collapsed": false
   },
   "id": "a23fed4bfe5891c5"
  },
  {
   "cell_type": "markdown",
   "source": [
    "## Словники (dict)\n",
    "\n",
    "невпорядкований асоційований масив"
   ],
   "metadata": {
    "collapsed": false
   },
   "id": "9555f8b21ea67807"
  },
  {
   "cell_type": "code",
   "execution_count": null,
   "outputs": [],
   "source": [
    "my_dict_1 = {\n",
    "    \"add\": \"додати\",\n",
    "    \"subtract\": \"віднімати\",\n",
    "    \"multiply\": \"множити\",\n",
    "    \"divide\": \"ділити\",\n",
    "}"
   ],
   "metadata": {
    "collapsed": false
   },
   "id": "3fb80d1e2b5420ba"
  },
  {
   "cell_type": "markdown",
   "source": [
    "Ключи - не можуть повторюватись (унікальність) і можуть бути лише незмінні (хешованість) обʼєкти.\n",
    "Значення - будь-які обʼєкти."
   ],
   "metadata": {
    "collapsed": false
   },
   "id": "a0a3cdb78245b9bd"
  },
  {
   "cell_type": "code",
   "execution_count": null,
   "outputs": [],
   "source": [
    "# невпорядкованість:\n",
    "d1 = {\"one\": 1, \"two\": 2, \"three\": 3}\n",
    "d2 = {\"three\": 3, \"two\": 2, \"one\": 1}\n",
    "d2 is d1"
   ],
   "metadata": {
    "collapsed": false
   },
   "id": "dc798dd5c0aa9ef2"
  },
  {
   "cell_type": "code",
   "execution_count": null,
   "outputs": [],
   "source": [
    "d2 == d1"
   ],
   "metadata": {
    "collapsed": false
   },
   "id": "69ae4936e27800f0"
  },
  {
   "cell_type": "markdown",
   "source": [
    "### Множини (set)\n",
    "\n",
    "це як словники - але без значень. Самі ключи.\n",
    "\n",
    "Невпорядковані послідовності незмінних (хешованих) унікальних обʼєктів."
   ],
   "metadata": {
    "collapsed": false
   },
   "id": "32a19e3db2d95cc9"
  },
  {
   "cell_type": "code",
   "execution_count": null,
   "outputs": [],
   "source": [
    "my_set_1 = {\"one\", \"two\", \"three\"}\n",
    "my_set_2 = {\"three\", \"four\", \"five\"}"
   ],
   "metadata": {
    "collapsed": false
   },
   "id": "571213d7a3ffefd3"
  },
  {
   "cell_type": "markdown",
   "source": [
    "![sets union](sets_union.png)"
   ],
   "metadata": {
    "collapsed": false
   },
   "id": "1d39da370e0585a9"
  },
  {
   "cell_type": "code",
   "execution_count": null,
   "outputs": [],
   "source": [
    "my_set_1.union(my_set_2)"
   ],
   "metadata": {
    "collapsed": false
   },
   "id": "a5b615631012959b"
  },
  {
   "cell_type": "code",
   "execution_count": null,
   "outputs": [],
   "source": [
    "my_set_1 | my_set_2"
   ],
   "metadata": {
    "collapsed": false
   },
   "id": "242478a1d9a04f51"
  },
  {
   "cell_type": "markdown",
   "source": [
    "![sets intersections](sets_intersections.png)"
   ],
   "metadata": {
    "collapsed": false
   },
   "id": "a09330be150eeb9d"
  },
  {
   "cell_type": "code",
   "execution_count": null,
   "outputs": [],
   "source": [
    "my_set_1.intersection(my_set_2)"
   ],
   "metadata": {
    "collapsed": false
   },
   "id": "b6cdc7f953acd62a"
  },
  {
   "cell_type": "code",
   "execution_count": null,
   "outputs": [],
   "source": [
    "my_set_1 & my_set_2"
   ],
   "metadata": {
    "collapsed": false
   },
   "id": "b16f573e0afde0dc"
  },
  {
   "cell_type": "markdown",
   "source": [
    "![sets diffrence](sets_difference.png)"
   ],
   "metadata": {
    "collapsed": false
   },
   "id": "4ea6d435ffb1e1e2"
  },
  {
   "cell_type": "code",
   "execution_count": null,
   "outputs": [],
   "source": [
    "my_set_1.difference(my_set_2)"
   ],
   "metadata": {
    "collapsed": false
   },
   "id": "2e8e3ccc8b85a71e"
  },
  {
   "cell_type": "code",
   "execution_count": null,
   "outputs": [],
   "source": [
    "my_set_1 - my_set_2"
   ],
   "metadata": {
    "collapsed": false
   },
   "id": "3224a1a04d06ff33"
  },
  {
   "cell_type": "code",
   "execution_count": null,
   "outputs": [],
   "source": [
    "# це - несиметрична операція\n",
    "\n",
    "my_set_2.difference(my_set_1)"
   ],
   "metadata": {
    "collapsed": false
   },
   "id": "9ff2f3e7daec4a3a"
  },
  {
   "cell_type": "code",
   "execution_count": null,
   "outputs": [],
   "source": [
    "my_set_2 - my_set_1"
   ],
   "metadata": {
    "collapsed": false
   },
   "id": "a026da7fc974bee7"
  },
  {
   "cell_type": "markdown",
   "source": [
    "![symetric difference](symmetric_difference.png)"
   ],
   "metadata": {
    "collapsed": false
   },
   "id": "f185d1fd5ee1d92b"
  },
  {
   "cell_type": "code",
   "execution_count": null,
   "outputs": [],
   "source": [
    "my_set_1.symmetric_difference(my_set_2)"
   ],
   "metadata": {
    "collapsed": false
   },
   "id": "1044aa38a8ecb8b8"
  },
  {
   "cell_type": "code",
   "execution_count": null,
   "outputs": [],
   "source": [
    "my_set_1 ^ my_set_2"
   ],
   "metadata": {
    "collapsed": false
   },
   "id": "ec8a88641cc84a47"
  },
  {
   "cell_type": "code",
   "execution_count": null,
   "outputs": [],
   "source": [],
   "metadata": {
    "collapsed": false
   },
   "id": "cdb4b7233eab2bcb"
  }
 ],
 "metadata": {
  "kernelspec": {
   "display_name": "Python 3 (ipykernel)",
   "language": "python",
   "name": "python3"
  },
  "language_info": {
   "codemirror_mode": {
    "name": "ipython",
    "version": 3
   },
   "file_extension": ".py",
   "mimetype": "text/x-python",
   "name": "python",
   "nbconvert_exporter": "python",
   "pygments_lexer": "ipython3",
   "version": "3.12.0"
  }
 },
 "nbformat": 4,
 "nbformat_minor": 5
}
