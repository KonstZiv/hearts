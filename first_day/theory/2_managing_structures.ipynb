{
 "cells": [
  {
   "cell_type": "markdown",
   "id": "f3aeb824fbcc1aba",
   "metadata": {
    "collapsed": false,
    "jupyter": {
     "outputs_hidden": false
    }
   },
   "source": [
    "## if ... else ...\n"
   ]
  },
  {
   "cell_type": "code",
   "execution_count": 2,
   "id": "initial_id",
   "metadata": {
    "ExecuteTime": {
     "end_time": "2023-12-15T13:52:27.308109Z",
     "start_time": "2023-12-15T13:52:27.226550Z"
    }
   },
   "outputs": [
    {
     "name": "stdout",
     "output_type": "stream",
     "text": [
      "-10\n"
     ]
    }
   ],
   "source": [
    "x = 10\n",
    "y = 20\n",
    "# x > y --> print(x + y), інакше print(x - y)\n",
    "if x > y:\n",
    "    z = x + y\n",
    "    print(z)\n",
    "z = x - y\n",
    "print(z)\n",
    "# недолік функціональний z = x - y - друкується завжди, код повторюється"
   ]
  },
  {
   "cell_type": "code",
   "execution_count": 3,
   "id": "7832d8df08abd65f",
   "metadata": {
    "collapsed": false,
    "jupyter": {
     "outputs_hidden": false
    }
   },
   "outputs": [
    {
     "name": "stdout",
     "output_type": "stream",
     "text": [
      "-10\n"
     ]
    }
   ],
   "source": [
    "# додати else і прибрати повтор коду\n",
    "x = 10\n",
    "y = 20\n",
    "# x > y --> print(x + y), інакше print(x - y)\n",
    "if x > y:\n",
    "    z = x + y\n",
    "else:\n",
    "    z = x - y\n",
    "print(z)"
   ]
  },
  {
   "cell_type": "code",
   "execution_count": 4,
   "id": "7c01c92b295055c1",
   "metadata": {
    "collapsed": false,
    "jupyter": {
     "outputs_hidden": false
    }
   },
   "outputs": [],
   "source": [
    "# додати elif\n",
    "\n",
    "# пояснити як працює контекст (bool())"
   ]
  },
  {
   "cell_type": "code",
   "execution_count": 5,
   "id": "8d6720a0a3bae2b4",
   "metadata": {
    "collapsed": false,
    "jupyter": {
     "outputs_hidden": false
    }
   },
   "outputs": [
    {
     "name": "stdout",
     "output_type": "stream",
     "text": [
      "-10\n"
     ]
    }
   ],
   "source": [
    "x = 10\n",
    "y = 20\n",
    "# x > y --> print(x + y), інакше print(x - y)\n",
    "if x > y:\n",
    "    z = x + y\n",
    "elif x == y:\n",
    "    z = 1\n",
    "elif x == 2 * y or y == 2 ** x:\n",
    "    z = 2\n",
    "else:\n",
    "    z = x - y\n",
    "print(z)"
   ]
  },
  {
   "cell_type": "markdown",
   "id": "4f0594573a116d73",
   "metadata": {
    "collapsed": false,
    "jupyter": {
     "outputs_hidden": false
    }
   },
   "source": [
    "### домашка - переробити ці приклади з використанням тернарного оператора (додати третю гілку)\n",
    "\n",
    "print(x + y if x > y else x - y)"
   ]
  },
  {
   "cell_type": "markdown",
   "id": "9187231eea8f2ff2",
   "metadata": {
    "collapsed": false,
    "jupyter": {
     "outputs_hidden": false
    }
   },
   "source": [
    "## loops\n",
    "\n",
    "ітерація - послідовність дій що, в залежності від якоїсь умови, може повторюватись\n",
    "\n",
    "#### while\n",
    "\n",
    "цикл з невизначеною кількістю ітерацій\n",
    "\n"
   ]
  },
  {
   "cell_type": "code",
   "execution_count": 6,
   "id": "3aa8bf12f1911c04",
   "metadata": {
    "ExecuteTime": {
     "end_time": "2023-12-12T06:44:13.557535Z",
     "start_time": "2023-12-12T06:44:13.549333Z"
    },
    "collapsed": false,
    "jupyter": {
     "outputs_hidden": false
    }
   },
   "outputs": [
    {
     "name": "stdout",
     "output_type": "stream",
     "text": [
      "0\n",
      "1\n",
      "2\n",
      "3\n",
      "4\n"
     ]
    }
   ],
   "source": [
    "x = 5\n",
    "counter = 0\n",
    "while counter < x:\n",
    "    print(counter)\n",
    "    counter += 1"
   ]
  },
  {
   "cell_type": "markdown",
   "id": "28fa8c23f70fa7b5",
   "metadata": {
    "collapsed": false,
    "jupyter": {
     "outputs_hidden": false
    }
   },
   "source": [
    "# умови припинення (break, continue)\n"
   ]
  },
  {
   "cell_type": "markdown",
   "id": "22a9940fcf5f84d",
   "metadata": {
    "collapsed": false,
    "jupyter": {
     "outputs_hidden": false
    }
   },
   "source": [
    "![break - continue](while_loop.png)"
   ]
  },
  {
   "cell_type": "code",
   "execution_count": 7,
   "id": "327df68804123f77",
   "metadata": {
    "collapsed": false,
    "jupyter": {
     "outputs_hidden": false
    }
   },
   "outputs": [
    {
     "name": "stdout",
     "output_type": "stream",
     "text": [
      "0\n",
      "1\n",
      "2\n"
     ]
    }
   ],
   "source": [
    "x = 5\n",
    "counter = 0\n",
    "while counter < x:\n",
    "    if counter == 3:\n",
    "        break\n",
    "    print(counter)\n",
    "    counter += 1"
   ]
  },
  {
   "cell_type": "markdown",
   "id": "f064ef9f71db9c43",
   "metadata": {
    "collapsed": false,
    "jupyter": {
     "outputs_hidden": false
    }
   },
   "source": [
    "\n",
    "#### for\n",
    "\n",
    "ітерація по колекції"
   ]
  },
  {
   "cell_type": "code",
   "execution_count": 8,
   "id": "602922e8f1259e1c",
   "metadata": {
    "ExecuteTime": {
     "end_time": "2023-12-12T07:36:56.245677Z",
     "start_time": "2023-12-12T07:36:56.240800Z"
    },
    "collapsed": false,
    "jupyter": {
     "outputs_hidden": false
    }
   },
   "outputs": [],
   "source": [
    "# колекція (справді - більш широке поняття - ітерабельний обʼєкт)\n",
    "\n",
    "items = [\"one\", \"two\", \"three\"]"
   ]
  },
  {
   "cell_type": "code",
   "execution_count": 9,
   "id": "3c4a7ac815085b5",
   "metadata": {
    "ExecuteTime": {
     "end_time": "2023-12-12T07:36:58.766819Z",
     "start_time": "2023-12-12T07:36:58.761921Z"
    },
    "collapsed": false,
    "jupyter": {
     "outputs_hidden": false
    }
   },
   "outputs": [
    {
     "name": "stdout",
     "output_type": "stream",
     "text": [
      "one\n",
      "two\n",
      "three\n"
     ]
    }
   ],
   "source": [
    "for item in items:\n",
    "    print(item)"
   ]
  },
  {
   "cell_type": "code",
   "execution_count": 10,
   "id": "12f92af943e80612",
   "metadata": {
    "collapsed": false,
    "jupyter": {
     "outputs_hidden": false
    }
   },
   "outputs": [
    {
     "name": "stdout",
     "output_type": "stream",
     "text": [
      "4\n",
      "2\n"
     ]
    }
   ],
   "source": [
    "# ставимо різні елементи\n",
    "for item in \"42\":\n",
    "    print(item)"
   ]
  },
  {
   "cell_type": "code",
   "execution_count": 11,
   "id": "d69e989beb1d47f8",
   "metadata": {
    "ExecuteTime": {
     "end_time": "2023-12-12T07:40:19.423227Z",
     "start_time": "2023-12-12T07:40:19.416043Z"
    },
    "collapsed": false,
    "jupyter": {
     "outputs_hidden": false
    }
   },
   "outputs": [],
   "source": [
    "# протокол ітерації, ітерабельний обʼєкт\n",
    "iterator = iter(items)"
   ]
  },
  {
   "cell_type": "code",
   "execution_count": 12,
   "id": "c06d9f742e343ee1",
   "metadata": {
    "ExecuteTime": {
     "end_time": "2023-12-12T07:40:19.927210Z",
     "start_time": "2023-12-12T07:40:19.885486Z"
    },
    "collapsed": false,
    "jupyter": {
     "outputs_hidden": false
    }
   },
   "outputs": [],
   "source": [
    "item = next(iterator)"
   ]
  },
  {
   "cell_type": "markdown",
   "id": "3f74c0f26179d07c",
   "metadata": {
    "collapsed": false,
    "jupyter": {
     "outputs_hidden": false
    }
   },
   "source": [
    "![iterations protocol](for_iterations_protocol.png)"
   ]
  },
  {
   "cell_type": "code",
   "execution_count": 13,
   "id": "d3e46e3b89a1cab2",
   "metadata": {
    "ExecuteTime": {
     "end_time": "2023-12-12T08:07:42.102960Z",
     "start_time": "2023-12-12T08:07:42.088763Z"
    },
    "collapsed": false,
    "jupyter": {
     "outputs_hidden": false
    }
   },
   "outputs": [
    {
     "data": {
      "text/plain": [
       "69"
      ]
     },
     "execution_count": 13,
     "metadata": {},
     "output_type": "execute_result"
    }
   ],
   "source": [
    "# ітераційний контекст - зустрічається дуже часто:\n",
    "\n",
    "numbers = (22, 23, 24)\n",
    "sum(numbers)"
   ]
  },
  {
   "cell_type": "code",
   "execution_count": 11,
   "id": "85d06a748838b50e",
   "metadata": {
    "ExecuteTime": {
     "end_time": "2023-12-12T08:09:05.321006Z",
     "start_time": "2023-12-12T08:09:05.312464Z"
    },
    "collapsed": false,
    "jupyter": {
     "outputs_hidden": false
    }
   },
   "outputs": [
    {
     "data": {
      "text/plain": [
       "['i', 't', ' ', 'i', 's', ' ', 's', 't', 'r', 'i', 'n', 'g']"
      ]
     },
     "execution_count": 11,
     "metadata": {},
     "output_type": "execute_result"
    }
   ],
   "source": [
    "my_string = \"it is string\"\n",
    "list(my_string)"
   ]
  },
  {
   "cell_type": "code",
   "execution_count": 12,
   "id": "ac6edb5caab3027b",
   "metadata": {
    "ExecuteTime": {
     "end_time": "2023-12-12T08:09:14.089569Z",
     "start_time": "2023-12-12T08:09:14.073274Z"
    },
    "collapsed": false,
    "jupyter": {
     "outputs_hidden": false
    }
   },
   "outputs": [
    {
     "data": {
      "text/plain": [
       "{' ', 'g', 'i', 'n', 'r', 's', 't'}"
      ]
     },
     "execution_count": 12,
     "metadata": {},
     "output_type": "execute_result"
    }
   ],
   "source": [
    "set(my_string)"
   ]
  },
  {
   "cell_type": "code",
   "execution_count": null,
   "id": "fb39e54d3d37bd3f",
   "metadata": {
    "collapsed": false,
    "jupyter": {
     "outputs_hidden": false
    }
   },
   "outputs": [],
   "source": []
  }
 ],
 "metadata": {
  "kernelspec": {
   "display_name": "Python 3 (ipykernel)",
   "language": "python",
   "name": "python3"
  },
  "language_info": {
   "codemirror_mode": {
    "name": "ipython",
    "version": 3
   },
   "file_extension": ".py",
   "mimetype": "text/x-python",
   "name": "python",
   "nbconvert_exporter": "python",
   "pygments_lexer": "ipython3",
   "version": "3.12.0"
  }
 },
 "nbformat": 4,
 "nbformat_minor": 5
}
