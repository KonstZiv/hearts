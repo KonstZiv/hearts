{
 "cells": [
  {
   "cell_type": "code",
   "execution_count": 1,
   "id": "initial_id",
   "metadata": {
    "ExecuteTime": {
     "end_time": "2023-12-15T13:57:03.593978Z",
     "start_time": "2023-12-15T13:57:03.589812Z"
    }
   },
   "outputs": [
    {
     "data": {
      "text/plain": [
       "4360490224"
      ]
     },
     "execution_count": 1,
     "metadata": {},
     "output_type": "execute_result"
    }
   ],
   "source": [
    "# функція - це самодостатній блок коду, який інкапсулює конкретне завдання або пов’язану групу завдань\n",
    "\n",
    "s = \"It is my string\"\n",
    "\n",
    "id(s)"
   ]
  },
  {
   "cell_type": "code",
   "execution_count": 2,
   "id": "fe8822823ed5fc9e",
   "metadata": {
    "ExecuteTime": {
     "end_time": "2023-12-12T15:15:20.751814Z",
     "start_time": "2023-12-12T15:15:20.735957Z"
    },
    "collapsed": false,
    "jupyter": {
     "outputs_hidden": false
    }
   },
   "outputs": [
    {
     "name": "stdout",
     "output_type": "stream",
     "text": [
      "It is my string\n"
     ]
    }
   ],
   "source": [
    "print(s)"
   ]
  },
  {
   "cell_type": "code",
   "execution_count": 3,
   "id": "6e7914c0ee87b6d0",
   "metadata": {
    "ExecuteTime": {
     "end_time": "2023-12-12T15:15:31.789550Z",
     "start_time": "2023-12-12T15:15:31.781656Z"
    },
    "collapsed": false,
    "jupyter": {
     "outputs_hidden": false
    }
   },
   "outputs": [
    {
     "data": {
      "text/plain": [
       "True"
      ]
     },
     "execution_count": 3,
     "metadata": {},
     "output_type": "execute_result"
    }
   ],
   "source": [
    "bool(s)"
   ]
  },
  {
   "cell_type": "code",
   "execution_count": 4,
   "id": "f53eefd8246b96",
   "metadata": {
    "ExecuteTime": {
     "end_time": "2023-12-12T15:15:54.437534Z",
     "start_time": "2023-12-12T15:15:54.429521Z"
    },
    "collapsed": false,
    "jupyter": {
     "outputs_hidden": false
    }
   },
   "outputs": [
    {
     "data": {
      "text/plain": [
       "15"
      ]
     },
     "execution_count": 4,
     "metadata": {},
     "output_type": "execute_result"
    }
   ],
   "source": [
    "len(s) # показати що документація - частина інтерфесу (help(func))"
   ]
  },
  {
   "cell_type": "code",
   "execution_count": 5,
   "id": "b78ad25320c5ea91",
   "metadata": {
    "collapsed": false,
    "jupyter": {
     "outputs_hidden": false
    }
   },
   "outputs": [],
   "source": [
    "# інтерфейс функції \n",
    "\n",
    "def my_func(arg_1, arg_2):\n",
    "    summa = arg_1 + arg_2\n",
    "    return summa"
   ]
  },
  {
   "cell_type": "markdown",
   "id": "456941e432c2e89c",
   "metadata": {
    "collapsed": false,
    "jupyter": {
     "outputs_hidden": false
    }
   },
   "source": [
    "![functions and code modularity](function_mod.png)"
   ]
  },
  {
   "cell_type": "code",
   "execution_count": 6,
   "id": "95db5a2dc4ebe38a",
   "metadata": {
    "ExecuteTime": {
     "end_time": "2023-12-12T15:39:29.363619Z",
     "start_time": "2023-12-12T15:39:29.354764Z"
    },
    "collapsed": false,
    "jupyter": {
     "outputs_hidden": false
    }
   },
   "outputs": [],
   "source": [
    "# аргументи - позиційні і ключові\n",
    "\n",
    "def print_check(goods_name, number, price):\n",
    "    return f\"name: {goods_name}, quantity: {number}, costs: {price}$\""
   ]
  },
  {
   "cell_type": "code",
   "execution_count": 11,
   "id": "485b1f511bce3704",
   "metadata": {
    "ExecuteTime": {
     "end_time": "2023-12-12T15:39:29.948745Z",
     "start_time": "2023-12-12T15:39:29.943950Z"
    },
    "collapsed": false,
    "jupyter": {
     "outputs_hidden": false
    }
   },
   "outputs": [
    {
     "data": {
      "text/plain": [
       "'name: apple, quantity: 2, costs: 1.45$'"
      ]
     },
     "execution_count": 11,
     "metadata": {},
     "output_type": "execute_result"
    }
   ],
   "source": [
    "print_check(\"apple\", 2, 1.45)"
   ]
  },
  {
   "cell_type": "code",
   "execution_count": 12,
   "id": "43627fca2a526d52",
   "metadata": {
    "ExecuteTime": {
     "end_time": "2023-12-12T15:42:05.652655Z",
     "start_time": "2023-12-12T15:42:05.635140Z"
    },
    "collapsed": false,
    "jupyter": {
     "outputs_hidden": false
    }
   },
   "outputs": [
    {
     "data": {
      "text/plain": [
       "'name: 2, quantity: 1.45, costs: apple$'"
      ]
     },
     "execution_count": 12,
     "metadata": {},
     "output_type": "execute_result"
    }
   ],
   "source": [
    "# кількість аргументів і їх черговість\n",
    "print_check(2, 1.45, \"apple\")"
   ]
  },
  {
   "cell_type": "code",
   "execution_count": 13,
   "id": "ccb31487ddd65267",
   "metadata": {
    "ExecuteTime": {
     "end_time": "2023-12-12T15:43:03.195836Z",
     "start_time": "2023-12-12T15:43:03.178961Z"
    },
    "collapsed": false,
    "jupyter": {
     "outputs_hidden": false
    }
   },
   "outputs": [
    {
     "data": {
      "text/plain": [
       "'name: apple, quantity: 2, costs: 1.45$'"
      ]
     },
     "execution_count": 13,
     "metadata": {},
     "output_type": "execute_result"
    }
   ],
   "source": [
    "print_check(number=2, price=1.45, goods_name=\"apple\")"
   ]
  },
  {
   "cell_type": "code",
   "execution_count": 14,
   "id": "1134a47fb487f10c",
   "metadata": {
    "ExecuteTime": {
     "end_time": "2023-12-12T15:44:13.643948Z",
     "start_time": "2023-12-12T15:44:13.621647Z"
    },
    "collapsed": false,
    "jupyter": {
     "outputs_hidden": false
    }
   },
   "outputs": [],
   "source": [
    "def print_check(goods_name: str, number: int, price: float) -> str:\n",
    "    return f\"name: {goods_name}, quantity: {number}, costs: {price}$\""
   ]
  },
  {
   "cell_type": "code",
   "execution_count": 15,
   "id": "97cfb64ced7d5c5e",
   "metadata": {
    "ExecuteTime": {
     "end_time": "2023-12-12T15:44:31.038639Z",
     "start_time": "2023-12-12T15:44:31.021980Z"
    },
    "collapsed": false,
    "jupyter": {
     "outputs_hidden": false
    }
   },
   "outputs": [
    {
     "data": {
      "text/plain": [
       "'name: 2, quantity: 1.45, costs: apple$'"
      ]
     },
     "execution_count": 15,
     "metadata": {},
     "output_type": "execute_result"
    }
   ],
   "source": [
    "print_check(2, 1.45, \"apple\")"
   ]
  },
  {
   "cell_type": "code",
   "execution_count": 32,
   "id": "234a91e3d9d4419",
   "metadata": {
    "ExecuteTime": {
     "end_time": "2023-12-12T16:03:08.266666Z",
     "start_time": "2023-12-12T16:03:08.257896Z"
    },
    "collapsed": false,
    "jupyter": {
     "outputs_hidden": false
    }
   },
   "outputs": [],
   "source": [
    "def print_check(goods_name: str = \"orange\", number: int = 1, price: float = 2.0) -> str:\n",
    "    \"\"\"It is my docstring.\"\"\"\n",
    "    return f\"name: {goods_name}, quantity: {number}, costs: {price}$\""
   ]
  },
  {
   "cell_type": "code",
   "execution_count": 33,
   "id": "d1ed3fd5c100fad7",
   "metadata": {
    "ExecuteTime": {
     "end_time": "2023-12-12T16:03:32.322853Z",
     "start_time": "2023-12-12T16:03:32.312579Z"
    },
    "collapsed": false,
    "jupyter": {
     "outputs_hidden": false
    }
   },
   "outputs": [
    {
     "name": "stdout",
     "output_type": "stream",
     "text": [
      "Help on function print_check in module __main__:\n",
      "\n",
      "print_check(goods_name: str = 'orange', number: int = 1, price: float = 2.0) -> str\n",
      "    It is my docstring.\n"
     ]
    }
   ],
   "source": [
    "help(print_check)"
   ]
  },
  {
   "cell_type": "code",
   "execution_count": 17,
   "id": "db3872f56efb5329",
   "metadata": {
    "ExecuteTime": {
     "end_time": "2023-12-12T15:52:22.177539Z",
     "start_time": "2023-12-12T15:52:22.170139Z"
    },
    "collapsed": false,
    "jupyter": {
     "outputs_hidden": false
    }
   },
   "outputs": [],
   "source": [
    "# як передати довільну кількість параметрів?\n",
    "\n",
    "# пакування і розпакування\n",
    "a, b, c = (1, 2, 3)"
   ]
  },
  {
   "cell_type": "code",
   "execution_count": 20,
   "id": "c439c6b20bc14924",
   "metadata": {
    "ExecuteTime": {
     "end_time": "2023-12-12T15:52:37.779916Z",
     "start_time": "2023-12-12T15:52:37.770300Z"
    },
    "collapsed": false,
    "jupyter": {
     "outputs_hidden": false
    }
   },
   "outputs": [
    {
     "data": {
      "text/plain": [
       "3"
      ]
     },
     "execution_count": 20,
     "metadata": {},
     "output_type": "execute_result"
    }
   ],
   "source": [
    "3"
   ]
  },
  {
   "cell_type": "code",
   "execution_count": 22,
   "id": "6c45722c82e2992f",
   "metadata": {
    "ExecuteTime": {
     "end_time": "2023-12-12T15:54:55.185174Z",
     "start_time": "2023-12-12T15:54:55.176482Z"
    },
    "collapsed": false,
    "jupyter": {
     "outputs_hidden": false
    }
   },
   "outputs": [],
   "source": [
    "def my_func(*args):\n",
    "    print(args)\n",
    "    print(type(args))\n",
    "    for arg in args:\n",
    "        print(arg)"
   ]
  },
  {
   "cell_type": "code",
   "execution_count": 23,
   "id": "81f7978a70eb47f7",
   "metadata": {
    "ExecuteTime": {
     "end_time": "2023-12-12T15:55:19.497942Z",
     "start_time": "2023-12-12T15:55:19.478897Z"
    },
    "collapsed": false,
    "jupyter": {
     "outputs_hidden": false
    }
   },
   "outputs": [
    {
     "name": "stdout",
     "output_type": "stream",
     "text": [
      "(1, 34, 45, 'ddd')\n",
      "<class 'tuple'>\n",
      "1\n",
      "34\n",
      "45\n",
      "ddd\n"
     ]
    }
   ],
   "source": [
    "my_func(1, 34, 45, \"ddd\")"
   ]
  },
  {
   "cell_type": "code",
   "execution_count": 24,
   "id": "319662f9a3e341e1",
   "metadata": {
    "ExecuteTime": {
     "end_time": "2023-12-12T15:58:16.807543Z",
     "start_time": "2023-12-12T15:58:16.785855Z"
    },
    "collapsed": false,
    "jupyter": {
     "outputs_hidden": false
    }
   },
   "outputs": [],
   "source": [
    "def average(*args):\n",
    "    total = 0\n",
    "    for arg in args:\n",
    "        total += arg\n",
    "    return total / len(args)"
   ]
  },
  {
   "cell_type": "code",
   "execution_count": 25,
   "id": "2e39611e38110008",
   "metadata": {
    "ExecuteTime": {
     "end_time": "2023-12-12T15:58:33.876584Z",
     "start_time": "2023-12-12T15:58:33.859558Z"
    },
    "collapsed": false,
    "jupyter": {
     "outputs_hidden": false
    }
   },
   "outputs": [
    {
     "data": {
      "text/plain": [
       "17.2"
      ]
     },
     "execution_count": 25,
     "metadata": {},
     "output_type": "execute_result"
    }
   ],
   "source": [
    "average(12, 2, 23, 4, 45)"
   ]
  },
  {
   "cell_type": "code",
   "execution_count": 26,
   "id": "3f43a371b85232a3",
   "metadata": {
    "ExecuteTime": {
     "end_time": "2023-12-12T16:01:06.374693Z",
     "start_time": "2023-12-12T16:01:06.355419Z"
    },
    "collapsed": false,
    "jupyter": {
     "outputs_hidden": false
    }
   },
   "outputs": [],
   "source": [
    "def my_func(a, b, *args, **kwargs):\n",
    "    print(a)\n",
    "    print(b)\n",
    "    print(args)\n",
    "    print(kwargs)"
   ]
  },
  {
   "cell_type": "code",
   "execution_count": 31,
   "id": "2ffcf813944dc16b",
   "metadata": {
    "ExecuteTime": {
     "end_time": "2023-12-12T16:02:08.738710Z",
     "start_time": "2023-12-12T16:02:08.728877Z"
    },
    "collapsed": false,
    "jupyter": {
     "outputs_hidden": false
    }
   },
   "outputs": [
    {
     "name": "stdout",
     "output_type": "stream",
     "text": [
      "1\n",
      "2\n",
      "(3, 4)\n",
      "{'aaa': 'aaa', 'bbb': 23}\n"
     ]
    }
   ],
   "source": [
    "my_func(1, 2, 3, 4, aaa=\"aaa\", bbb=23)"
   ]
  },
  {
   "cell_type": "code",
   "execution_count": null,
   "id": "4d794e4e6dd8f04",
   "metadata": {
    "collapsed": false,
    "jupyter": {
     "outputs_hidden": false
    }
   },
   "outputs": [],
   "source": []
  }
 ],
 "metadata": {
  "kernelspec": {
   "display_name": "Python 3 (ipykernel)",
   "language": "python",
   "name": "python3"
  },
  "language_info": {
   "codemirror_mode": {
    "name": "ipython",
    "version": 3
   },
   "file_extension": ".py",
   "mimetype": "text/x-python",
   "name": "python",
   "nbconvert_exporter": "python",
   "pygments_lexer": "ipython3",
   "version": "3.12.0"
  }
 },
 "nbformat": 4,
 "nbformat_minor": 5
}
