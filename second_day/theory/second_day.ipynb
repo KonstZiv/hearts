{
 "cells": [
  {
   "cell_type": "markdown",
   "source": [
    "## Git + GitLab\n",
    "\n",
    "1. Git, встановлення\n",
    "2. Робочій цикл. \n",
    "3. Гілки.\n",
    "4. GitLab, реєстрація.\n",
    "5. Як звʼязати існуючий локально репозиторій з віддаленим.\n",
    "6. Як клонувати собі код з віддаленого репозиторію в новий локальний.\n",
    "7. Звичайний робочій цикл з віддаленим репозиторієм.\n",
    "\n",
    "## Typing\n",
    "\n",
    "1. Анотації.\n"
   ],
   "metadata": {
    "collapsed": false
   },
   "id": "d2d9cded4a621c54"
  },
  {
   "cell_type": "markdown",
   "source": [
    "Простий варіант, який ми використовували:"
   ],
   "metadata": {
    "collapsed": false
   },
   "id": "445654e0a95f54e5"
  },
  {
   "cell_type": "code",
   "execution_count": null,
   "outputs": [],
   "source": [
    "name: str = \"Guido\"\n",
    "pi: float = 3.142\n",
    "centered: bool = False"
   ],
   "metadata": {
    "collapsed": false
   },
   "id": "e979dc7a00c58e76"
  },
  {
   "cell_type": "markdown",
   "source": [
    "Контейнери можна анотувати також:"
   ],
   "metadata": {
    "collapsed": false
   },
   "id": "84cce9f8a4216eee"
  },
  {
   "cell_type": "code",
   "execution_count": null,
   "outputs": [],
   "source": [
    "names: list = [\"Guido\", \"Jukka\", \"Ivan\"]\n",
    "version: tuple = (3, 7, 1)\n",
    "options: dict = {\"centered\": False, \"capitalize\": True}"
   ],
   "metadata": {
    "collapsed": false
   },
   "id": "c4d819135c4aa629"
  },
  {
   "cell_type": "markdown",
   "source": [
    "Але ми маємо спеціальні інструменти для більш структурного анотування"
   ],
   "metadata": {
    "collapsed": false
   },
   "id": "117660960b50a5c8"
  },
  {
   "cell_type": "code",
   "execution_count": null,
   "id": "initial_id",
   "metadata": {
    "collapsed": true
   },
   "outputs": [],
   "source": [
    "from typing import Dict, List, Tuple\n",
    "\n",
    "names: List[str] = [\"Guido\", \"Jukka\", \"Ivan\"]\n",
    "version: Tuple[int, int, int] = (3, 7, 1)\n",
    "options: Dict[str, bool] = {\"centered\": False, \"capitalize\": True}"
   ]
  },
  {
   "cell_type": "markdown",
   "source": [
    "** Кортеж — це незмінна послідовність, яка зазвичай складається з фіксованої кількості елементів, які можуть бути різними типами. Наприклад, ми представляємо карту як кортеж масті та рангу. Загалом, ви пишете Tuple[t_1, t_2, ..., t_n]для n-кортежу.\n",
    "\n",
    "Список — це змінна послідовність і зазвичай складається з невідомої кількості елементів одного типу, наприклад, список карток. Незалежно від того, скільки елементів у списку, в анотації є лише один тип: List[t]."
   ],
   "metadata": {
    "collapsed": false
   },
   "id": "557afa1fcd15e88a"
  },
  {
   "cell_type": "markdown",
   "source": [
    "Якщо ви використовуєте останні версії python, то деякі можливості вже вбудовані:"
   ],
   "metadata": {
    "collapsed": false
   },
   "id": "a8408214c0e2a39e"
  },
  {
   "cell_type": "code",
   "execution_count": null,
   "outputs": [],
   "source": [
    "names: list[str] = [\"Guido\", \"Jukka\", \"Ivan\"]\n",
    "version: tuple[int, int, int] = (3, 7, 1)\n",
    "options: dict[str, bool] = {\"centered\": False, \"capitalize\": True}"
   ],
   "metadata": {
    "collapsed": false
   },
   "id": "a820866710c867f5"
  },
  {
   "cell_type": "markdown",
   "source": [
    "Тепер давайте застосуємо це до нашого коду, який ми написали минулого разу:"
   ],
   "metadata": {
    "collapsed": false
   },
   "id": "8154bb918a799699"
  },
  {
   "cell_type": "code",
   "execution_count": null,
   "outputs": [],
   "source": [
    "import random\n",
    "\n",
    "SUITS = \"♠ ♡ ♢ ♣\".split()\n",
    "RANKS = \"2 3 4 5 6 7 8 9 10 J Q K A\".split()\n",
    "\n",
    "def get_deck(shuffle: bool = False) -> List[Tuple[str, str]]:\n",
    "    \"\"\"Create a new deck of 52 cards\"\"\"\n",
    "    deck = [(s, r) for r in RANKS for s in SUITS]\n",
    "    if shuffle:\n",
    "        random.shuffle(deck)\n",
    "    return deck"
   ],
   "metadata": {
    "collapsed": false
   },
   "id": "7b8f5cac08c4b277"
  },
  {
   "cell_type": "markdown",
   "source": [
    "У багатьох випадках ваші функції очікують певної послідовності , і їм не дуже важливо, чи це список, чи кортеж. У цих випадках ви повинні використовувати typing.Sequence під час анотації аргументу функції:"
   ],
   "metadata": {
    "collapsed": false
   },
   "id": "e65d3bb1e26002b7"
  },
  {
   "cell_type": "code",
   "execution_count": null,
   "outputs": [],
   "source": [
    "from typing import List, Sequence\n",
    "\n",
    "def square(elems: Sequence[float]) -> List[float]:\n",
    "    return [x**2 for x in elems]"
   ],
   "metadata": {
    "collapsed": false
   },
   "id": "bb790923b0646a46"
  },
  {
   "cell_type": "markdown",
   "source": [
    "Тепер подумайте, як би ви зробили примітки deal_hands():"
   ],
   "metadata": {
    "collapsed": false
   },
   "id": "e19967266985fc6e"
  },
  {
   "cell_type": "code",
   "execution_count": null,
   "outputs": [],
   "source": [
    "def deal_hands(\n",
    "    deck: List[Tuple[str, str]]\n",
    ") -> Tuple[\n",
    "    List[Tuple[str, str]],\n",
    "    List[Tuple[str, str]],\n",
    "    List[Tuple[str, str]],\n",
    "    List[Tuple[str, str]],\n",
    "]:\n",
    "    \"\"\"Deal the cards in the deck into four hands\"\"\"\n",
    "    return deck[0::4], deck[1::4], deck[2::4], deck[3::4]"
   ],
   "metadata": {
    "collapsed": false
   },
   "id": "3ceb56dd02fa43d5"
  },
  {
   "cell_type": "markdown",
   "source": [
    "Це просто жах!\n",
    "\n",
    "ви можете визначати власні псевдоніми типів, призначаючи їх новим змінним. Ви можете, наприклад, створити Cardта Deckввести псевдоніми:"
   ],
   "metadata": {
    "collapsed": false
   },
   "id": "aa98139f57658934"
  },
  {
   "cell_type": "code",
   "execution_count": null,
   "outputs": [],
   "source": [
    "from typing import List, Tuple\n",
    "\n",
    "Card = Tuple[str, str]\n",
    "Deck = List[Card]"
   ],
   "metadata": {
    "collapsed": false
   },
   "id": "642ad7afde4bd880"
  },
  {
   "cell_type": "markdown",
   "source": [
    "Використовуючи ці псевдоніми, анотації deal_hands()стають набагато читабельнішими:"
   ],
   "metadata": {
    "collapsed": false
   },
   "id": "5c60715490ce4f74"
  },
  {
   "cell_type": "code",
   "execution_count": null,
   "outputs": [],
   "source": [
    "def deal_hands(deck: Deck) -> Tuple[Deck, Deck, Deck, Deck]:\n",
    "    \"\"\"Deal the cards in the deck into four hands\"\"\"\n",
    "    return deck[0::4], deck[1::4], deck[2::4], deck[3::4]"
   ],
   "metadata": {
    "collapsed": false
   },
   "id": "cafb670ebcd1a319"
  },
  {
   "cell_type": "markdown",
   "source": [
    "Чому треба анотувати і ті функції, які нічого не повертають.\n"
   ],
   "metadata": {
    "collapsed": false
   },
   "id": "dd6bce0f597432d1"
  },
  {
   "cell_type": "code",
   "execution_count": null,
   "outputs": [],
   "source": [
    "def play(player_name):\n",
    "    print(f\"{player_name} plays\")\n",
    "\n",
    "ret_val = play(\"Jacob\")"
   ],
   "metadata": {
    "collapsed": false
   },
   "id": "880a4752d1c2a81a"
  },
  {
   "cell_type": "markdown",
   "source": [
    "Описати кроки в файлі 02_hearts.py. Запустити і показати що гравець обирається випадково (перший) і карта з руки забирається випадково. Тепер треба анотувати нові функції.\n",
    "Показати проблему з анотуванням."
   ],
   "metadata": {
    "collapsed": false
   },
   "id": "aae67639981cfa2a"
  },
  {
   "cell_type": "code",
   "execution_count": null,
   "outputs": [],
   "source": [
    "# перший спосіб анотування (так собі)\n",
    "\n",
    "import random\n",
    "from typing import Any, Sequence\n",
    "\n",
    "def choose(items: Sequence[Any]) -> Any:\n",
    "    return random.choice(items)"
   ],
   "metadata": {
    "collapsed": false
   },
   "id": "a0b8f6507047d1f8"
  },
  {
   "cell_type": "markdown",
   "source": [
    "Змінна типу — це спеціальна змінна, яка може приймати будь-який тип залежно від ситуації.\n",
    "\n",
    "Давайте створимо змінну типу, яка буде ефективно інкапсулювати поведінку choose():"
   ],
   "metadata": {
    "collapsed": false
   },
   "id": "b11b8d1846ffc723"
  },
  {
   "cell_type": "code",
   "execution_count": null,
   "outputs": [],
   "source": [
    "# choose.py\n",
    "\n",
    "import random\n",
    "from typing import Sequence, TypeVar\n",
    "\n",
    "Choosable = TypeVar(\"Choosable\")\n",
    "\n",
    "def choose(items: Sequence[Choosable]) -> Choosable:\n",
    "    return random.choice(items)\n"
   ],
   "metadata": {
    "collapsed": false
   },
   "id": "2d1c5abfc6f5902b"
  },
  {
   "cell_type": "code",
   "execution_count": null,
   "outputs": [],
   "source": [
    "# choose.py\n",
    "\n",
    "import random\n",
    "from typing import Sequence, TypeVar\n",
    "\n",
    "Choosable = TypeVar(\"Choosable\", str, float)\n",
    "\n",
    "def choose(items: Sequence[Choosable]) -> Choosable:\n",
    "    return random.choice(items)\n"
   ],
   "metadata": {
    "collapsed": false
   },
   "id": "e400202c0d77d0c3"
  },
  {
   "cell_type": "markdown",
   "source": [
    "\n",
    "Тип Optional\n",
    "\n",
    "Загальним шаблоном у Python є використання None значення за замовчуванням для аргументу. Зазвичай це робиться, щоб уникнути проблем зі змінними значеннями за замовчуванням , або щоб мати дозорне значення, яке позначає особливу поведінку.\n",
    "\n",
    "У прикладі з карткою player_order()функція використовує None як контрольне значення, щоб start сказати, що якщо початкового гравця не вказано, його слід вибирати випадковим чином:"
   ],
   "metadata": {
    "collapsed": false
   },
   "id": "ee59970d8807ea89"
  },
  {
   "cell_type": "code",
   "execution_count": null,
   "outputs": [],
   "source": [
    "def player_order(names, start=None):\n",
    "    \"\"\"Rotate player order so that start goes first\"\"\"\n",
    "    if start is None:\n",
    "        start = choose(names)\n",
    "    start_idx = names.index(start)\n",
    "    return names[start_idx:] + names[:start_idx]"
   ],
   "metadata": {
    "collapsed": false
   },
   "id": "b09d7c5188bd5908"
  },
  {
   "cell_type": "markdown",
   "source": [
    "Проблема, яку це створює для підказки типу, полягає в тому, що загалом це startмає бути рядок. Однак він також може приймати спеціальне нерядкове значення None."
   ],
   "metadata": {
    "collapsed": false
   },
   "id": "bb0c39a30848d9c5"
  },
  {
   "cell_type": "code",
   "execution_count": null,
   "outputs": [],
   "source": [
    "from typing import Sequence, Optional\n",
    "\n",
    "def player_order(\n",
    "    names: Sequence[str], start: Optional[str] = None\n",
    ") -> Sequence[str]:\n",
    "    start_idx = names.index(start)\n",
    "    return names[start_idx:] + names[:start_idx]"
   ],
   "metadata": {
    "collapsed": false
   },
   "id": "9c72574d64fe3194"
  },
  {
   "cell_type": "markdown",
   "source": [
    "Тип Optional просто говорить про те, що змінна або має вказаний тип, або є None. Еквівалентним способом визначення того ж буде використання Union типу: Union[None, str]"
   ],
   "metadata": {
    "collapsed": false
   },
   "id": "fde6fad3c8a215c4"
  }
 ],
 "metadata": {
  "kernelspec": {
   "display_name": "Python 3",
   "language": "python",
   "name": "python3"
  },
  "language_info": {
   "codemirror_mode": {
    "name": "ipython",
    "version": 2
   },
   "file_extension": ".py",
   "mimetype": "text/x-python",
   "name": "python",
   "nbconvert_exporter": "python",
   "pygments_lexer": "ipython2",
   "version": "2.7.6"
  }
 },
 "nbformat": 4,
 "nbformat_minor": 5
}
