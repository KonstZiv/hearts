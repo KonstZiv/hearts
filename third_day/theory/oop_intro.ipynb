{
 "cells": [
  {
   "cell_type": "markdown",
   "source": [
    "Об’єктно-орієнтоване програмування (ООП) — це метод структурування програми шляхом об’єднання пов’язаних властивостей і поведінки в окремі об’єкти. Згадайте - коли ми почал розмовляти про python і вчити змінні і елементарні типи - ми говорили що все що можна робити з обʼєктом і весь опис обʼєкта - в самому обʼєкті. Тепер ми зануримось в це більш суттєво і перепишемо те, що ми написали в обʼєктній парадигмі."
   ],
   "metadata": {
    "collapsed": false
   },
   "id": "b85b0893c7b55557"
  },
  {
   "cell_type": "code",
   "execution_count": 4,
   "id": "initial_id",
   "metadata": {
    "collapsed": true,
    "ExecuteTime": {
     "end_time": "2023-12-13T14:52:13.267694Z",
     "start_time": "2023-12-13T14:52:13.263839Z"
    }
   },
   "outputs": [],
   "source": [
    "class User:\n",
    "    def __init__(self, name: str, birth_year: int) -> None:\n",
    "        self.name = name\n",
    "        self.birth_year = birth_year"
   ]
  },
  {
   "cell_type": "code",
   "execution_count": 6,
   "outputs": [],
   "source": [
    "user_1 = User(\"Olga\", 2000)"
   ],
   "metadata": {
    "collapsed": false,
    "ExecuteTime": {
     "end_time": "2023-12-13T14:52:54.340954Z",
     "start_time": "2023-12-13T14:52:54.334306Z"
    }
   },
   "id": "bbd5ada22fbc5490"
  },
  {
   "cell_type": "code",
   "execution_count": 7,
   "outputs": [
    {
     "data": {
      "text/plain": "<__main__.User at 0x108b64890>"
     },
     "execution_count": 7,
     "metadata": {},
     "output_type": "execute_result"
    }
   ],
   "source": [
    "user_1"
   ],
   "metadata": {
    "collapsed": false,
    "ExecuteTime": {
     "end_time": "2023-12-13T14:52:56.798699Z",
     "start_time": "2023-12-13T14:52:56.795078Z"
    }
   },
   "id": "2c61238776dcd2d6"
  },
  {
   "cell_type": "code",
   "execution_count": 8,
   "outputs": [
    {
     "data": {
      "text/plain": "'Olga'"
     },
     "execution_count": 8,
     "metadata": {},
     "output_type": "execute_result"
    }
   ],
   "source": [
    "user_1.name"
   ],
   "metadata": {
    "collapsed": false,
    "ExecuteTime": {
     "end_time": "2023-12-13T14:53:07.481833Z",
     "start_time": "2023-12-13T14:53:07.474155Z"
    }
   },
   "id": "4554bc572db8e832"
  },
  {
   "cell_type": "code",
   "execution_count": 9,
   "outputs": [],
   "source": [
    "class User_2:\n",
    "    pass"
   ],
   "metadata": {
    "collapsed": false,
    "ExecuteTime": {
     "end_time": "2023-12-13T14:54:05.385292Z",
     "start_time": "2023-12-13T14:54:05.377524Z"
    }
   },
   "id": "b083230dbccae609"
  },
  {
   "cell_type": "code",
   "execution_count": 10,
   "outputs": [],
   "source": [
    "user_2 = User_2()"
   ],
   "metadata": {
    "collapsed": false,
    "ExecuteTime": {
     "end_time": "2023-12-13T14:54:24.319109Z",
     "start_time": "2023-12-13T14:54:24.310246Z"
    }
   },
   "id": "56e8889742176b22"
  },
  {
   "cell_type": "code",
   "execution_count": 11,
   "outputs": [],
   "source": [
    "user_2.name = \"Olga\""
   ],
   "metadata": {
    "collapsed": false,
    "ExecuteTime": {
     "end_time": "2023-12-13T14:54:38.873865Z",
     "start_time": "2023-12-13T14:54:38.860819Z"
    }
   },
   "id": "84176be4285557d4"
  },
  {
   "cell_type": "code",
   "execution_count": 12,
   "outputs": [],
   "source": [
    "user_2.birth_year = 2000"
   ],
   "metadata": {
    "collapsed": false,
    "ExecuteTime": {
     "end_time": "2023-12-13T14:55:06.439776Z",
     "start_time": "2023-12-13T14:55:06.432344Z"
    }
   },
   "id": "623c1998f9daf7a9"
  },
  {
   "cell_type": "code",
   "execution_count": 13,
   "outputs": [
    {
     "data": {
      "text/plain": "'Olga'"
     },
     "execution_count": 13,
     "metadata": {},
     "output_type": "execute_result"
    }
   ],
   "source": [
    "user_2.name"
   ],
   "metadata": {
    "collapsed": false,
    "ExecuteTime": {
     "end_time": "2023-12-13T14:55:14.179653Z",
     "start_time": "2023-12-13T14:55:14.171846Z"
    }
   },
   "id": "ed0bc248c58ba45f"
  },
  {
   "cell_type": "code",
   "execution_count": 14,
   "outputs": [],
   "source": [
    "def init(obj, name, birth_year):\n",
    "    obj.name = name\n",
    "    obj.birth_year = birth_year\n"
   ],
   "metadata": {
    "collapsed": false,
    "ExecuteTime": {
     "end_time": "2023-12-13T14:56:35.155946Z",
     "start_time": "2023-12-13T14:56:35.147365Z"
    }
   },
   "id": "beef9f652d2f6027"
  },
  {
   "cell_type": "code",
   "execution_count": 15,
   "outputs": [],
   "source": [
    "user_3 = User_2()"
   ],
   "metadata": {
    "collapsed": false,
    "ExecuteTime": {
     "end_time": "2023-12-13T14:57:16.196703Z",
     "start_time": "2023-12-13T14:57:16.188023Z"
    }
   },
   "id": "c1aac6b42dcb7b74"
  },
  {
   "cell_type": "code",
   "execution_count": 16,
   "outputs": [],
   "source": [
    "init(user_3, \"Petro\", 1990)"
   ],
   "metadata": {
    "collapsed": false,
    "ExecuteTime": {
     "end_time": "2023-12-13T14:57:31.920421Z",
     "start_time": "2023-12-13T14:57:31.905450Z"
    }
   },
   "id": "586975be4934bccc"
  },
  {
   "cell_type": "code",
   "execution_count": 17,
   "outputs": [
    {
     "data": {
      "text/plain": "'Petro'"
     },
     "execution_count": 17,
     "metadata": {},
     "output_type": "execute_result"
    }
   ],
   "source": [
    "user_3.name"
   ],
   "metadata": {
    "collapsed": false,
    "ExecuteTime": {
     "end_time": "2023-12-13T14:57:46.049262Z",
     "start_time": "2023-12-13T14:57:46.040421Z"
    }
   },
   "id": "72a06659222ce0ca"
  },
  {
   "cell_type": "code",
   "execution_count": 18,
   "outputs": [
    {
     "data": {
      "text/plain": "['__class__',\n '__delattr__',\n '__dict__',\n '__dir__',\n '__doc__',\n '__eq__',\n '__format__',\n '__ge__',\n '__getattribute__',\n '__getstate__',\n '__gt__',\n '__hash__',\n '__init__',\n '__init_subclass__',\n '__le__',\n '__lt__',\n '__module__',\n '__ne__',\n '__new__',\n '__reduce__',\n '__reduce_ex__',\n '__repr__',\n '__setattr__',\n '__sizeof__',\n '__str__',\n '__subclasshook__',\n '__weakref__']"
     },
     "execution_count": 18,
     "metadata": {},
     "output_type": "execute_result"
    }
   ],
   "source": [
    "dir(User)"
   ],
   "metadata": {
    "collapsed": false,
    "ExecuteTime": {
     "end_time": "2023-12-13T15:04:30.794366Z",
     "start_time": "2023-12-13T15:04:30.786500Z"
    }
   },
   "id": "4e0b5a1eae009c1"
  },
  {
   "cell_type": "code",
   "execution_count": null,
   "outputs": [],
   "source": [],
   "metadata": {
    "collapsed": false
   },
   "id": "40d877c070607d8"
  }
 ],
 "metadata": {
  "kernelspec": {
   "display_name": "Python 3",
   "language": "python",
   "name": "python3"
  },
  "language_info": {
   "codemirror_mode": {
    "name": "ipython",
    "version": 2
   },
   "file_extension": ".py",
   "mimetype": "text/x-python",
   "name": "python",
   "nbconvert_exporter": "python",
   "pygments_lexer": "ipython2",
   "version": "2.7.6"
  }
 },
 "nbformat": 4,
 "nbformat_minor": 5
}
