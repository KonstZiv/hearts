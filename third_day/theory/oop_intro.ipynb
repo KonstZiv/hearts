{
 "cells": [
  {
   "cell_type": "markdown",
   "source": [
    "Об’єктно-орієнтоване програмування (ООП) — це метод структурування програми шляхом об’єднання пов’язаних властивостей і поведінки в окремі об’єкти. Згадайте - коли ми почал розмовляти про python і вчити змінні і елементарні типи - ми говорили що все що можна робити з обʼєктом і весь опис обʼєкта - в самому обʼєкті. Тепер ми зануримось в це більш суттєво і перепишемо те, що ми написали в обʼєктній парадигмі."
   ],
   "metadata": {
    "collapsed": false
   },
   "id": "b85b0893c7b55557"
  },
  {
   "cell_type": "code",
   "execution_count": null,
   "id": "initial_id",
   "metadata": {
    "collapsed": true
   },
   "outputs": [],
   "source": [
    "class User:\n",
    "    def __init__(self, name: str, birth_year: int) -> None:\n",
    "        self.name = name\n",
    "        self.birth_year = birth_year"
   ]
  },
  {
   "cell_type": "code",
   "execution_count": null,
   "outputs": [],
   "source": [
    "user_1 = User(\"Olga\", 2000)"
   ],
   "metadata": {
    "collapsed": false
   },
   "id": "bbd5ada22fbc5490"
  },
  {
   "cell_type": "code",
   "execution_count": null,
   "outputs": [],
   "source": [
    "user_1"
   ],
   "metadata": {
    "collapsed": false
   },
   "id": "2c61238776dcd2d6"
  },
  {
   "cell_type": "code",
   "execution_count": null,
   "outputs": [],
   "source": [
    "user_1.name"
   ],
   "metadata": {
    "collapsed": false
   },
   "id": "4554bc572db8e832"
  },
  {
   "cell_type": "code",
   "execution_count": null,
   "outputs": [],
   "source": [
    "class User_2:\n",
    "    pass"
   ],
   "metadata": {
    "collapsed": false
   },
   "id": "b083230dbccae609"
  },
  {
   "cell_type": "code",
   "execution_count": null,
   "outputs": [],
   "source": [
    "user_2 = User_2()"
   ],
   "metadata": {
    "collapsed": false
   },
   "id": "56e8889742176b22"
  },
  {
   "cell_type": "code",
   "execution_count": null,
   "outputs": [],
   "source": [
    "user_2.name = \"Olga\""
   ],
   "metadata": {
    "collapsed": false
   },
   "id": "84176be4285557d4"
  },
  {
   "cell_type": "code",
   "execution_count": null,
   "outputs": [],
   "source": [
    "user_2.birth_year = 2000"
   ],
   "metadata": {
    "collapsed": false
   },
   "id": "623c1998f9daf7a9"
  },
  {
   "cell_type": "code",
   "execution_count": null,
   "outputs": [],
   "source": [
    "user_2.name"
   ],
   "metadata": {
    "collapsed": false
   },
   "id": "ed0bc248c58ba45f"
  },
  {
   "cell_type": "code",
   "execution_count": null,
   "outputs": [],
   "source": [
    "def init(obj, name, birth_year):\n",
    "    obj.name = name\n",
    "    obj.birth_year = birth_year\n"
   ],
   "metadata": {
    "collapsed": false
   },
   "id": "beef9f652d2f6027"
  },
  {
   "cell_type": "code",
   "execution_count": null,
   "outputs": [],
   "source": [
    "user_3 = User_2()"
   ],
   "metadata": {
    "collapsed": false
   },
   "id": "c1aac6b42dcb7b74"
  },
  {
   "cell_type": "code",
   "execution_count": null,
   "outputs": [],
   "source": [
    "init(user_3, \"Petro\", 1990)"
   ],
   "metadata": {
    "collapsed": false
   },
   "id": "586975be4934bccc"
  },
  {
   "cell_type": "code",
   "execution_count": null,
   "outputs": [],
   "source": [
    "user_3.name"
   ],
   "metadata": {
    "collapsed": false
   },
   "id": "72a06659222ce0ca"
  },
  {
   "cell_type": "code",
   "execution_count": null,
   "outputs": [],
   "source": [
    "dir(User)"
   ],
   "metadata": {
    "collapsed": false
   },
   "id": "4e0b5a1eae009c1"
  },
  {
   "cell_type": "markdown",
   "source": [
    "## Dunder-methods"
   ],
   "metadata": {
    "collapsed": false
   },
   "id": "f471fb92bf370a5c"
  },
  {
   "cell_type": "code",
   "execution_count": 7,
   "outputs": [],
   "source": [
    "class User:\n",
    "    def __init__(self, name: str, birth_year: int) -> None:\n",
    "        self.name = name\n",
    "        self.birth_year = birth_year\n",
    "    \n",
    "    def __repr__(self):\n",
    "        return f\"User('{self.name}', {self.birth_year})\"\n",
    "    \n",
    "    def __str__(self):\n",
    "        return f\"user: {self.name}, birth_day: {self.birth_year}\""
   ],
   "metadata": {
    "collapsed": false,
    "ExecuteTime": {
     "end_time": "2023-12-15T14:56:37.124406Z",
     "start_time": "2023-12-15T14:56:37.115925Z"
    }
   },
   "id": "40d877c070607d8"
  },
  {
   "cell_type": "code",
   "execution_count": 8,
   "outputs": [],
   "source": [
    "kos = User(\"Kostiantyn\", 1971)"
   ],
   "metadata": {
    "collapsed": false,
    "ExecuteTime": {
     "end_time": "2023-12-15T14:56:37.773605Z",
     "start_time": "2023-12-15T14:56:37.768259Z"
    }
   },
   "id": "444bde95959b8961"
  },
  {
   "cell_type": "code",
   "execution_count": 9,
   "outputs": [
    {
     "data": {
      "text/plain": "User('Kostiantyn', 1971)"
     },
     "execution_count": 9,
     "metadata": {},
     "output_type": "execute_result"
    }
   ],
   "source": [
    "kos"
   ],
   "metadata": {
    "collapsed": false,
    "ExecuteTime": {
     "end_time": "2023-12-15T14:56:38.650297Z",
     "start_time": "2023-12-15T14:56:38.647281Z"
    }
   },
   "id": "4aea450d97415c3c"
  },
  {
   "cell_type": "code",
   "execution_count": 10,
   "outputs": [
    {
     "name": "stdout",
     "output_type": "stream",
     "text": [
      "user: Kostiantyn, birth_day: 1971\n"
     ]
    }
   ],
   "source": [
    "print(kos)"
   ],
   "metadata": {
    "collapsed": false,
    "ExecuteTime": {
     "end_time": "2023-12-15T14:56:51.164530Z",
     "start_time": "2023-12-15T14:56:51.153574Z"
    }
   },
   "id": "62fff2246119eaff"
  },
  {
   "cell_type": "code",
   "execution_count": 32,
   "outputs": [],
   "source": [
    "import datetime\n",
    "\n",
    "class User:\n",
    "    def __init__(self, name: str, birth_date: datetime.date) -> None:\n",
    "        self.name = name\n",
    "        self.birth_date = birth_date\n",
    "    \n",
    "    def __repr__(self):\n",
    "        return f\"User('{self.name}', {self.birth_date!r})\" # !!!! !r\n",
    "    \n",
    "    def __str__(self):\n",
    "        return f\"user: {self.name}, birth_day: {self.birth_date}\"\n",
    "    \n",
    "    def __eq__(self, other):\n",
    "        if not isinstance(other, User):\n",
    "            raise TypeError(f\"'==' not supported between instances of {type(self)} and {type(other)}\")\n",
    "        return self.birth_date == other.birth_date\n",
    "    \n",
    "    def __len__(self):\n",
    "        return datetime.date.today().year - self.birth_date.year"
   ],
   "metadata": {
    "collapsed": false,
    "ExecuteTime": {
     "end_time": "2023-12-15T15:46:52.762889Z",
     "start_time": "2023-12-15T15:46:52.751861Z"
    }
   },
   "id": "2bd5215e78763fc2"
  },
  {
   "cell_type": "code",
   "execution_count": 33,
   "outputs": [],
   "source": [
    "kos = User(\"Kostiantyn\", datetime.date(1971, 12, 9))"
   ],
   "metadata": {
    "collapsed": false,
    "ExecuteTime": {
     "end_time": "2023-12-15T15:46:53.199806Z",
     "start_time": "2023-12-15T15:46:53.197735Z"
    }
   },
   "id": "6a474503a23f7a16"
  },
  {
   "cell_type": "code",
   "execution_count": 34,
   "outputs": [
    {
     "data": {
      "text/plain": "User('Kostiantyn', datetime.date(1971, 12, 9))"
     },
     "execution_count": 34,
     "metadata": {},
     "output_type": "execute_result"
    }
   ],
   "source": [
    "kos"
   ],
   "metadata": {
    "collapsed": false,
    "ExecuteTime": {
     "end_time": "2023-12-15T15:46:53.681843Z",
     "start_time": "2023-12-15T15:46:53.679115Z"
    }
   },
   "id": "e661aa65c8710257"
  },
  {
   "cell_type": "code",
   "execution_count": 35,
   "outputs": [
    {
     "name": "stdout",
     "output_type": "stream",
     "text": [
      "user: Kostiantyn, birth_day: 1971-12-09\n"
     ]
    }
   ],
   "source": [
    "print(kos)"
   ],
   "metadata": {
    "collapsed": false,
    "ExecuteTime": {
     "end_time": "2023-12-15T15:46:54.189235Z",
     "start_time": "2023-12-15T15:46:54.186794Z"
    }
   },
   "id": "3b0c46a293161ef7"
  },
  {
   "cell_type": "code",
   "execution_count": 36,
   "outputs": [
    {
     "data": {
      "text/plain": "52"
     },
     "execution_count": 36,
     "metadata": {},
     "output_type": "execute_result"
    }
   ],
   "source": [
    "len(kos)"
   ],
   "metadata": {
    "collapsed": false,
    "ExecuteTime": {
     "end_time": "2023-12-15T15:46:54.727148Z",
     "start_time": "2023-12-15T15:46:54.724887Z"
    }
   },
   "id": "b14ac7c11e329fbc"
  },
  {
   "cell_type": "code",
   "execution_count": 37,
   "outputs": [],
   "source": [
    "mary = User(\"Mary\", datetime.date(1982, 3, 24))"
   ],
   "metadata": {
    "collapsed": false,
    "ExecuteTime": {
     "end_time": "2023-12-15T15:46:55.425529Z",
     "start_time": "2023-12-15T15:46:55.421533Z"
    }
   },
   "id": "6b5e65aa4de20ac7"
  },
  {
   "cell_type": "code",
   "execution_count": 38,
   "outputs": [
    {
     "data": {
      "text/plain": "41"
     },
     "execution_count": 38,
     "metadata": {},
     "output_type": "execute_result"
    }
   ],
   "source": [
    "len(mary)"
   ],
   "metadata": {
    "collapsed": false,
    "ExecuteTime": {
     "end_time": "2023-12-15T15:46:57.258810Z",
     "start_time": "2023-12-15T15:46:57.254687Z"
    }
   },
   "id": "a546607fb7610cf"
  },
  {
   "cell_type": "code",
   "execution_count": 39,
   "outputs": [
    {
     "data": {
      "text/plain": "False"
     },
     "execution_count": 39,
     "metadata": {},
     "output_type": "execute_result"
    }
   ],
   "source": [
    "mary == kos"
   ],
   "metadata": {
    "collapsed": false,
    "ExecuteTime": {
     "end_time": "2023-12-15T15:47:02.931397Z",
     "start_time": "2023-12-15T15:47:02.920752Z"
    }
   },
   "id": "e495c9019d7e892d"
  },
  {
   "cell_type": "markdown",
   "source": [
    "### @classmethod, @staticmethod"
   ],
   "metadata": {
    "collapsed": false
   },
   "id": "eb88e03b2daddb27"
  },
  {
   "cell_type": "markdown",
   "source": [
    "### Анотації в класах"
   ],
   "metadata": {
    "collapsed": false
   },
   "id": "7aa027535c095bf8"
  },
  {
   "cell_type": "code",
   "execution_count": null,
   "outputs": [],
   "source": [],
   "metadata": {
    "collapsed": false
   },
   "id": "a43467c65b836839"
  }
 ],
 "metadata": {
  "kernelspec": {
   "display_name": "Python 3",
   "language": "python",
   "name": "python3"
  },
  "language_info": {
   "codemirror_mode": {
    "name": "ipython",
    "version": 2
   },
   "file_extension": ".py",
   "mimetype": "text/x-python",
   "name": "python",
   "nbconvert_exporter": "python",
   "pygments_lexer": "ipython2",
   "version": "2.7.6"
  }
 },
 "nbformat": 4,
 "nbformat_minor": 5
}
